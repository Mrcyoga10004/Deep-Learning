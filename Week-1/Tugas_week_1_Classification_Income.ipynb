{
  "nbformat": 4,
  "nbformat_minor": 0,
  "metadata": {
    "colab": {
      "provenance": [],
      "authorship_tag": "ABX9TyM5mO4XJKOt392u5q8B5PLW",
      "include_colab_link": true
    },
    "kernelspec": {
      "name": "python3",
      "display_name": "Python 3"
    },
    "language_info": {
      "name": "python"
    }
  },
  "cells": [
    {
      "cell_type": "markdown",
      "metadata": {
        "id": "view-in-github",
        "colab_type": "text"
      },
      "source": [
        "<a href=\"https://colab.research.google.com/github/Mrcyoga10004/Deep-Learning/blob/main/Tugas_week_1_Classification_Income.ipynb\" target=\"_parent\"><img src=\"https://colab.research.google.com/assets/colab-badge.svg\" alt=\"Open In Colab\"/></a>"
      ]
    },
    {
      "cell_type": "code",
      "execution_count": 1,
      "metadata": {
        "id": "XCWYdm3q3yL7"
      },
      "outputs": [],
      "source": [
        "#import library\n",
        "import torch\n",
        "import torch.nn as nn\n",
        "import torch.optim as optim\n",
        "from torch.utils.data import DataLoader, TensorDataset\n",
        "import tensorflow as tf\n",
        "from tensorflow import keras\n",
        "from tensorflow.keras import layers\n",
        "import pandas as pd\n",
        "import numpy as np\n",
        "from sklearn.model_selection import train_test_split\n",
        "from sklearn.preprocessing import LabelEncoder, StandardScaler\n",
        "from sklearn.metrics import accuracy_score, precision_score, recall_score, f1_score, roc_auc_score, roc_curve\n",
        "import matplotlib.pyplot as plt\n",
        ""
      ]
    },
    {
      "cell_type": "code",
      "source": [
        "# Memuat dataset\n",
        "file_path = \"/content/income.csv\"\n",
        "df = pd.read_csv(file_path)"
      ],
      "metadata": {
        "id": "aJ-qIw6A38Yq"
      },
      "execution_count": 4,
      "outputs": []
    },
    {
      "cell_type": "code",
      "source": [
        "# Membersihkan kolom target\n",
        "if 'income' in df.columns:\n",
        "    df['income'] = df['income'].str.replace('.', '', regex=False)\n",
        "    df['income'] = df['income'].map({'<=50K': 0, '>50K': 1})"
      ],
      "metadata": {
        "id": "H5X6_ZEb5e6b"
      },
      "execution_count": 5,
      "outputs": []
    },
    {
      "cell_type": "code",
      "source": [
        "# Mengenkripsi variabel kategorikal\n",
        "label_encoders = {}\n",
        "for column in df.select_dtypes(include=['object']).columns:\n",
        "    le = LabelEncoder()\n",
        "    df[column] = le.fit_transform(df[column])\n",
        "    label_encoders[column] = le"
      ],
      "metadata": {
        "id": "dmxc8rOl5jmH"
      },
      "execution_count": 6,
      "outputs": []
    },
    {
      "cell_type": "code",
      "source": [
        "# Mendefinisikan fitur dan target\n",
        "X = df.drop(columns=['income'])\n",
        "y = df['income']"
      ],
      "metadata": {
        "id": "o1co5h3i5pXr"
      },
      "execution_count": 7,
      "outputs": []
    },
    {
      "cell_type": "code",
      "source": [
        "# Membagi data menjadi data latih dan data uji\n",
        "X_train, X_test, y_train, y_test = train_test_split(X, y, test_size=0.2, random_state=42, stratify=y)\n",
        ""
      ],
      "metadata": {
        "id": "RhpEZFhA5pOS"
      },
      "execution_count": 8,
      "outputs": []
    },
    {
      "cell_type": "code",
      "source": [
        "# Menormalisasi fitur numerik\n",
        "scaler = StandardScaler()\n",
        "X_train = scaler.fit_transform(X_train)\n",
        "X_test = scaler.transform(X_test)"
      ],
      "metadata": {
        "id": "ASYA5-Nm5o4b"
      },
      "execution_count": 9,
      "outputs": []
    },
    {
      "cell_type": "code",
      "source": [
        "# Mengonversi data ke dalam bentuk tensor PyTorch\n",
        "X_train_tensor = torch.tensor(X_train, dtype=torch.float32)\n",
        "y_train_tensor = torch.tensor(y_train.values, dtype=torch.float32).unsqueeze(1)\n",
        "X_test_tensor = torch.tensor(X_test, dtype=torch.float32)\n",
        "y_test_tensor = torch.tensor(y_test.values, dtype=torch.float32).unsqueeze(1)\n",
        "\n",
        "\n",
        "# Membuat DataLoader\n",
        "train_dataset = TensorDataset(X_train_tensor, y_train_tensor)\n",
        "test_dataset = TensorDataset(X_test_tensor, y_test_tensor)\n",
        "train_loader = DataLoader(train_dataset, batch_size=32, shuffle=True)\n",
        "test_loader = DataLoader(test_dataset, batch_size=32, shuffle=False)"
      ],
      "metadata": {
        "id": "jnLNSxiy51F8"
      },
      "execution_count": 10,
      "outputs": []
    },
    {
      "cell_type": "code",
      "source": [
        "# Mendefinisikan model PyTorch\n",
        "class IncomeClassifier(nn.Module):\n",
        "    def __init__(self, input_size):\n",
        "        super(IncomeClassifier, self).__init__()\n",
        "        self.fc1 = nn.Linear(input_size, 64)\n",
        "        self.relu = nn.ReLU()\n",
        "        self.fc2 = nn.Linear(64, 32)\n",
        "        self.fc3 = nn.Linear(32, 1)\n",
        "\n",
        "    def forward(self, x):\n",
        "        x = self.relu(self.fc1(x))\n",
        "        x = self.relu(self.fc2(x))\n",
        "        x = torch.sigmoid(self.fc3(x))\n",
        "        return x\n",
        "\n"
      ],
      "metadata": {
        "id": "2H_Rww39506N"
      },
      "execution_count": 11,
      "outputs": []
    },
    {
      "cell_type": "code",
      "source": [
        "# Inisialisasi model, fungsi loss, dan optimizer\n",
        "input_size = X_train.shape[1]\n",
        "model = IncomeClassifier(input_size)\n",
        "criterion = nn.BCELoss()\n",
        "optimizer = optim.Adam(model.parameters(), lr=0.001)\n",
        "\n",
        "\n",
        "# Melatih model PyTorch\n",
        "epochs = 10\n",
        "for epoch in range(epochs):\n",
        "    model.train()\n",
        "    for batch_X, batch_y in train_loader:\n",
        "        optimizer.zero_grad()\n",
        "        outputs = model(batch_X)\n",
        "        loss = criterion(outputs, batch_y)\n",
        "        loss.backward()\n",
        "        optimizer.step()\n",
        "\n",
        "\n",
        "# Mengevaluasi model PyTorch\n",
        "model.eval()\n",
        "y_pred = []\n",
        "y_true = []\n",
        "with torch.no_grad():\n",
        "    for batch_X, batch_y in test_loader:\n",
        "        outputs = model(batch_X)\n",
        "        predicted = (outputs > 0.5).float()\n",
        "        y_pred.extend(predicted.numpy())\n",
        "        y_true.extend(batch_y.numpy())"
      ],
      "metadata": {
        "id": "-hQt6nXQ6AVK"
      },
      "execution_count": 12,
      "outputs": []
    },
    {
      "cell_type": "code",
      "source": [
        "# Menghitung metrik evaluasi\n",
        "accuracy = accuracy_score(y_true, y_pred)\n",
        "precision = precision_score(y_true, y_pred)\n",
        "recall = recall_score(y_true, y_pred)\n",
        "f1 = f1_score(y_true, y_pred)\n",
        "auc = roc_auc_score(y_true, y_pred)\n",
        "\n",
        "\n",
        "# Mendefinisikan model TensorFlow\n",
        "tf_model = keras.Sequential([\n",
        "    layers.Dense(64, activation='relu', input_shape=(input_size,)),\n",
        "    layers.Dense(32, activation='relu'),\n",
        "    layers.Dense(1, activation='sigmoid')\n",
        "])\n",
        ""
      ],
      "metadata": {
        "colab": {
          "base_uri": "https://localhost:8080/"
        },
        "id": "tz6quIYn6RRj",
        "outputId": "107d526e-3f17-4e0f-9fb3-dcc77ac70225"
      },
      "execution_count": 13,
      "outputs": [
        {
          "output_type": "stream",
          "name": "stderr",
          "text": [
            "/usr/local/lib/python3.11/dist-packages/keras/src/layers/core/dense.py:87: UserWarning: Do not pass an `input_shape`/`input_dim` argument to a layer. When using Sequential models, prefer using an `Input(shape)` object as the first layer in the model instead.\n",
            "  super().__init__(activity_regularizer=activity_regularizer, **kwargs)\n"
          ]
        }
      ]
    },
    {
      "cell_type": "code",
      "source": [
        "# Mengompilasi model TensorFlow\n",
        "tf_model.compile(optimizer='adam', loss='binary_crossentropy', metrics=['accuracy'])\n",
        "\n",
        "\n",
        "# Melatih model TensorFlow\n",
        "tf_model.fit(X_train, y_train, epochs=10, batch_size=32, verbose=1, validation_data=(X_test, y_test))"
      ],
      "metadata": {
        "colab": {
          "base_uri": "https://localhost:8080/"
        },
        "id": "WyfA0xbR6Xi3",
        "outputId": "8643b863-0ad7-4b73-bacc-572c2e84e980"
      },
      "execution_count": 14,
      "outputs": [
        {
          "output_type": "stream",
          "name": "stdout",
          "text": [
            "Epoch 1/10\n",
            "\u001b[1m1222/1222\u001b[0m \u001b[32m━━━━━━━━━━━━━━━━━━━━\u001b[0m\u001b[37m\u001b[0m \u001b[1m12s\u001b[0m 7ms/step - accuracy: 0.8034 - loss: 0.4077 - val_accuracy: 0.8484 - val_loss: 0.3263\n",
            "Epoch 2/10\n",
            "\u001b[1m1222/1222\u001b[0m \u001b[32m━━━━━━━━━━━━━━━━━━━━\u001b[0m\u001b[37m\u001b[0m \u001b[1m3s\u001b[0m 3ms/step - accuracy: 0.8524 - loss: 0.3199 - val_accuracy: 0.8507 - val_loss: 0.3217\n",
            "Epoch 3/10\n",
            "\u001b[1m1222/1222\u001b[0m \u001b[32m━━━━━━━━━━━━━━━━━━━━\u001b[0m\u001b[37m\u001b[0m \u001b[1m3s\u001b[0m 3ms/step - accuracy: 0.8493 - loss: 0.3239 - val_accuracy: 0.8487 - val_loss: 0.3223\n",
            "Epoch 4/10\n",
            "\u001b[1m1222/1222\u001b[0m \u001b[32m━━━━━━━━━━━━━━━━━━━━\u001b[0m\u001b[37m\u001b[0m \u001b[1m3s\u001b[0m 3ms/step - accuracy: 0.8523 - loss: 0.3164 - val_accuracy: 0.8514 - val_loss: 0.3199\n",
            "Epoch 5/10\n",
            "\u001b[1m1222/1222\u001b[0m \u001b[32m━━━━━━━━━━━━━━━━━━━━\u001b[0m\u001b[37m\u001b[0m \u001b[1m5s\u001b[0m 3ms/step - accuracy: 0.8536 - loss: 0.3124 - val_accuracy: 0.8514 - val_loss: 0.3191\n",
            "Epoch 6/10\n",
            "\u001b[1m1222/1222\u001b[0m \u001b[32m━━━━━━━━━━━━━━━━━━━━\u001b[0m\u001b[37m\u001b[0m \u001b[1m5s\u001b[0m 3ms/step - accuracy: 0.8549 - loss: 0.3148 - val_accuracy: 0.8503 - val_loss: 0.3184\n",
            "Epoch 7/10\n",
            "\u001b[1m1222/1222\u001b[0m \u001b[32m━━━━━━━━━━━━━━━━━━━━\u001b[0m\u001b[37m\u001b[0m \u001b[1m5s\u001b[0m 4ms/step - accuracy: 0.8567 - loss: 0.3073 - val_accuracy: 0.8533 - val_loss: 0.3176\n",
            "Epoch 8/10\n",
            "\u001b[1m1222/1222\u001b[0m \u001b[32m━━━━━━━━━━━━━━━━━━━━\u001b[0m\u001b[37m\u001b[0m \u001b[1m4s\u001b[0m 3ms/step - accuracy: 0.8532 - loss: 0.3097 - val_accuracy: 0.8502 - val_loss: 0.3179\n",
            "Epoch 9/10\n",
            "\u001b[1m1222/1222\u001b[0m \u001b[32m━━━━━━━━━━━━━━━━━━━━\u001b[0m\u001b[37m\u001b[0m \u001b[1m5s\u001b[0m 3ms/step - accuracy: 0.8525 - loss: 0.3105 - val_accuracy: 0.8507 - val_loss: 0.3159\n",
            "Epoch 10/10\n",
            "\u001b[1m1222/1222\u001b[0m \u001b[32m━━━━━━━━━━━━━━━━━━━━\u001b[0m\u001b[37m\u001b[0m \u001b[1m4s\u001b[0m 3ms/step - accuracy: 0.8561 - loss: 0.3059 - val_accuracy: 0.8549 - val_loss: 0.3156\n"
          ]
        },
        {
          "output_type": "execute_result",
          "data": {
            "text/plain": [
              "<keras.src.callbacks.history.History at 0x7e7bebbc4950>"
            ]
          },
          "metadata": {},
          "execution_count": 14
        }
      ]
    },
    {
      "cell_type": "code",
      "source": [
        "# Mengevaluasi model TensorFlow\n",
        "y_pred_tf = (tf_model.predict(X_test) > 0.5).astype('int32')\n",
        "accuracy_tf = accuracy_score(y_test, y_pred_tf)\n",
        "precision_tf = precision_score(y_test, y_pred_tf)\n",
        "recall_tf = recall_score(y_test, y_pred_tf)\n",
        "f1_tf = f1_score(y_test, y_pred_tf)\n",
        "auc_tf = roc_auc_score(y_test, y_pred_tf)"
      ],
      "metadata": {
        "colab": {
          "base_uri": "https://localhost:8080/"
        },
        "id": "FIivatAR6kb4",
        "outputId": "7dcbaf73-fe32-451d-c185-96684746ae18"
      },
      "execution_count": 15,
      "outputs": [
        {
          "output_type": "stream",
          "name": "stdout",
          "text": [
            "\u001b[1m306/306\u001b[0m \u001b[32m━━━━━━━━━━━━━━━━━━━━\u001b[0m\u001b[37m\u001b[0m \u001b[1m1s\u001b[0m 2ms/step\n"
          ]
        }
      ]
    },
    {
      "cell_type": "code",
      "source": [
        "# Menampilkan hasil evaluasi\n",
        "print(\"Model PyTorch:\")\n",
        "print(f\"Akurasi: {accuracy}, Presisi: {precision}, Recall: {recall}, F1 Score: {f1}, AUC: {auc}\")\n",
        "print(\"\\nModel TensorFlow:\")\n",
        "print(f\"Akurasi: {accuracy_tf}, Presisi: {precision_tf}, Recall: {recall_tf}, F1 Score: {f1_tf}, AUC: {auc_tf}\")"
      ],
      "metadata": {
        "colab": {
          "base_uri": "https://localhost:8080/"
        },
        "id": "v4A6ovI06wlE",
        "outputId": "c60e0ab3-0a2b-4f3f-e1ca-df13013f103b"
      },
      "execution_count": 16,
      "outputs": [
        {
          "output_type": "stream",
          "name": "stdout",
          "text": [
            "Model PyTorch:\n",
            "Akurasi: 0.8532091309243526, Presisi: 0.7371458551941238, Recall: 0.6009409751924722, F1 Score: 0.6621112158341188, AUC: 0.7667603543705599\n",
            "\n",
            "Model TensorFlow:\n",
            "Akurasi: 0.8549493295117208, Presisi: 0.7638968481375358, Recall: 0.5701454234388366, F1 Score: 0.6529512613274553, AUC: 0.7573510053541915\n"
          ]
        }
      ]
    },
    {
      "cell_type": "code",
      "source": [
        "# Membuat kurva ROC\n",
        "def plot_roc(y_test, y_pred_proba, label):\n",
        "    fpr, tpr, _ = roc_curve(y_test, y_pred_proba)\n",
        "    plt.plot(fpr, tpr, label=label)\n",
        "\n",
        "plt.figure(figsize=(8, 6))\n",
        "plot_roc(y_true, y_pred, \"PyTorch\")\n",
        "plot_roc(y_test, y_pred_tf, \"TensorFlow\")\n",
        "plt.plot([0, 1], [0, 1], 'k--')\n",
        "plt.xlabel(\"False Positive Rate\")\n",
        "plt.ylabel(\"True Positive Rate\")\n",
        "plt.title(\"Perbandingan Kurva ROC\")\n",
        "plt.legend()\n",
        "plt.show()"
      ],
      "metadata": {
        "colab": {
          "base_uri": "https://localhost:8080/",
          "height": 564
        },
        "id": "HSrDw1bW62XY",
        "outputId": "297c2960-dd62-4cdc-9436-af5f43aa2803"
      },
      "execution_count": 17,
      "outputs": [
        {
          "output_type": "display_data",
          "data": {
            "text/plain": [
              "<Figure size 800x600 with 1 Axes>"
            ],
            "image/png": "[encoded data removed]"
          },
          "metadata": {}
        }
      ]
    },
    {
      "cell_type": "markdown",
      "source": [
        "Dalam evaluasi model klasifikasi, terdapat beberapa metrik utama seperti Akurasi, Presisi, Recall, F1 Score, dan AUC-ROC. Setiap metrik memiliki keunggulan tergantung pada kondisi dataset dan tujuan model. Akurasi mengukur persentase prediksi yang benar dari total data, tetapi kurang efektif jika dataset tidak seimbang. Presisi menilai seberapa banyak prediksi positif yang benar, berguna ketika false positive harus diminimalkan, seperti dalam diagnosis penyakit. Recall mengukur kemampuan model dalam mendeteksi semua kasus positif, penting saat false negative lebih berbahaya, misalnya dalam pendeteksian kanker. Untuk menyeimbangkan presisi dan recall, digunakan F1 Score, yang lebih cocok jika dataset tidak seimbang. Sementara itu, AUC-ROC memberikan gambaran lebih luas tentang kemampuan model dalam membedakan kelas positif dan negatif, cocok untuk model yang menghasilkan probabilitas. Pemilihan metrik terbaik bergantung pada konteks masalah. Jika data seimbang, akurasi cukup digunakan. Namun, jika terdapat ketimpangan data, F1 Score atau AUC-ROC lebih tepat. Oleh karena itu, penting untuk memilih metrik yang sesuai dengan tujuan model agar hasil evaluasi lebih akurat.\n",
        "\n",
        "Skor F1 adalah metrik yang berguna yang menyeimbangkan presisi dan perolehan kembali tetapi tidak boleh digunakan secara terpisah karena tidak memperhitungkan negatif yang sebenarnya. Akurasi adalah metrik yang sederhana tetapi harus digunakan dengan hati-hati, terutama untuk kelas yang tidak seimbang. Kurva ROC dan AUC adalah metrik komprehensif yang mengevaluasi kinerja model di berbagai ambang batas dan sangat berguna untuk kelas yang tidak seimbang. Terakhir, PR-AUC adalah metrik yang mengukur kinerja keseluruhan model klasifikasi biner dengan memplot presisi terhadap perolehan kembali pada pengaturan ambang batas yang berbeda, memberikan penilaian kinerja yang lebih akurat untuk kelas yang tidak seimbang.\n",
        "\n",
        "Kesimpulannya, mengetahui dan memilih metrik kinerja klasifikasi yang tepat penting untuk proyek Anda, karena metrik ini akan menentukan apakah proyek Anda akan gagal atau berhasil. Analisis ini tidak mudah; analisis ini melibatkan pemahaman kumpulan data Anda, pertimbangan yang dapat Anda terima, dan implikasi prediksi. Terima kasih telah membaca!"
      ],
      "metadata": {
        "id": "q2bqIAjt74WB"
      }
    }
  ]
}