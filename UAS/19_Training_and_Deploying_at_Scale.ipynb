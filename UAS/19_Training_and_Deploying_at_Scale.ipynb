{
  "nbformat": 4,
  "nbformat_minor": 0,
  "metadata": {
    "colab": {
      "provenance": [],
      "gpuType": "T4"
    },
    "kernelspec": {
      "name": "python3",
      "display_name": "Python 3"
    },
    "language_info": {
      "name": "python"
    },
    "accelerator": "GPU"
  },
  "cells": [
    {
      "cell_type": "markdown",
      "metadata": {
        "id": "view-in-github"
      },
      "source": [
        "<a href=\"https://colab.research.google.com/github/Marcellinus08/Deep-Learning/blob/main/Training_and_Deploying_at_Scale.ipynb\" target=\"_parent\"><img src=\"https://colab.research.google.com/assets/colab-badge.svg\" alt=\"Open In Colab\"/></a>"
      ]
    },
    {
      "cell_type": "markdown",
      "source": [
        "Import Library"
      ],
      "metadata": {
        "id": "YKgB3-CWaAoF"
      }
    },
    {
      "cell_type": "code",
      "execution_count": 1,
      "metadata": {
        "id": "LFkaQIkYZrAo"
      },
      "outputs": [],
      "source": [
        "import tensorflow as tf\n",
        "from tensorflow import keras\n",
        "import numpy as np\n",
        "import os\n",
        "import json\n",
        "import requests\n",
        "import time\n",
        "import pandas as pd\n",
        "import matplotlib.pyplot as plt"
      ]
    },
    {
      "cell_type": "markdown",
      "source": [
        "Checking GPU"
      ],
      "metadata": {
        "id": "NDd-WvihaGLC"
      }
    },
    {
      "cell_type": "code",
      "source": [
        "gpus = tf.config.experimental.list_physical_devices('GPU')\n",
        "if gpus:\n",
        "  try:\n",
        "    print(\"Disabling virtual GPU configuration...\")\n",
        "    tf.config.experimental.set_visible_devices([], 'GPU') # Disable virtual devices\n",
        "    physical_gpus = tf.config.experimental.list_physical_devices('GPU')\n",
        "    logical_gpus = tf.config.experimental.list_logical_devices('GPU')\n",
        "    print(f\"Physical GPUs: {len(physical_gpus)}, Logical GPUs: {len(logical_gpus)}\")\n",
        "  except RuntimeError as e:\n",
        "    print(\"Error:\", e)\n",
        "else:\n",
        "    print(\"No GPU found.\")\n"
      ],
      "metadata": {
        "colab": {
          "base_uri": "https://localhost:8080/"
        },
        "id": "SBGsn_wKZsNr",
        "outputId": "b3463347-4e33-4cfe-c18c-16dbfbebc797"
      },
      "execution_count": 2,
      "outputs": [
        {
          "output_type": "stream",
          "name": "stdout",
          "text": [
            "Disabling virtual GPU configuration...\n",
            "Physical GPUs: 1, Logical GPUs: 0\n"
          ]
        }
      ]
    },
    {
      "cell_type": "markdown",
      "source": [
        "Data Preparation"
      ],
      "metadata": {
        "id": "30n8viY3aN7Y"
      }
    },
    {
      "cell_type": "code",
      "source": [
        "(X_train_full, y_train_full), (X_test, y_test) = keras.datasets.mnist.load_data()\n",
        "X_train_full = X_train_full[..., np.newaxis].astype(np.float32) / 255.\n",
        "X_test = X_test[..., np.newaxis].astype(np.float32) / 255.\n",
        "X_valid, X_train = X_train_full[:5000], X_train_full[5000:]\n",
        "y_valid, y_train = y_train_full[:5000], y_train_full[5000:]\n"
      ],
      "metadata": {
        "id": "7Nz5RgRoaOet"
      },
      "execution_count": 3,
      "outputs": []
    },
    {
      "cell_type": "markdown",
      "source": [
        "Build and Training Base Model"
      ],
      "metadata": {
        "id": "kjuInThVaUfq"
      }
    },
    {
      "cell_type": "code",
      "source": [
        "with tf.device('/CPU:0'):\n",
        "    model = keras.models.Sequential([\n",
        "        keras.layers.Flatten(input_shape=[28, 28, 1]),\n",
        "        keras.layers.Dense(100, activation=\"relu\"),\n",
        "        keras.layers.Dense(10, activation=\"softmax\")\n",
        "    ])\n",
        "    model.compile(loss=\"sparse_categorical_crossentropy\",\n",
        "                  optimizer=keras.optimizers.SGD(learning_rate=1e-2),\n",
        "                  metrics=[\"accuracy\"])\n",
        "    model.fit(X_train, y_train, epochs=5, validation_data=(X_valid, y_valid), verbose=1)\n"
      ],
      "metadata": {
        "colab": {
          "base_uri": "https://localhost:8080/"
        },
        "id": "OqqtZwIPaWfq",
        "outputId": "2724b3c2-b210-4bdf-9544-f5cc3508e929"
      },
      "execution_count": 4,
      "outputs": [
        {
          "output_type": "stream",
          "name": "stderr",
          "text": [
            "/usr/local/lib/python3.11/dist-packages/keras/src/layers/reshaping/flatten.py:37: UserWarning: Do not pass an `input_shape`/`input_dim` argument to a layer. When using Sequential models, prefer using an `Input(shape)` object as the first layer in the model instead.\n",
            "  super().__init__(**kwargs)\n"
          ]
        },
        {
          "output_type": "stream",
          "name": "stdout",
          "text": [
            "Epoch 1/5\n",
            "\u001b[1m1719/1719\u001b[0m \u001b[32m━━━━━━━━━━━━━━━━━━━━\u001b[0m\u001b[37m\u001b[0m \u001b[1m7s\u001b[0m 4ms/step - accuracy: 0.7207 - loss: 1.0637 - val_accuracy: 0.9014 - val_loss: 0.3695\n",
            "Epoch 2/5\n",
            "\u001b[1m1719/1719\u001b[0m \u001b[32m━━━━━━━━━━━━━━━━━━━━\u001b[0m\u001b[37m\u001b[0m \u001b[1m7s\u001b[0m 2ms/step - accuracy: 0.8968 - loss: 0.3697 - val_accuracy: 0.9188 - val_loss: 0.3013\n",
            "Epoch 3/5\n",
            "\u001b[1m1719/1719\u001b[0m \u001b[32m━━━━━━━━━━━━━━━━━━━━\u001b[0m\u001b[37m\u001b[0m \u001b[1m6s\u001b[0m 2ms/step - accuracy: 0.9119 - loss: 0.3164 - val_accuracy: 0.9284 - val_loss: 0.2685\n",
            "Epoch 4/5\n",
            "\u001b[1m1719/1719\u001b[0m \u001b[32m━━━━━━━━━━━━━━━━━━━━\u001b[0m\u001b[37m\u001b[0m \u001b[1m6s\u001b[0m 3ms/step - accuracy: 0.9229 - loss: 0.2822 - val_accuracy: 0.9338 - val_loss: 0.2461\n",
            "Epoch 5/5\n",
            "\u001b[1m1719/1719\u001b[0m \u001b[32m━━━━━━━━━━━━━━━━━━━━\u001b[0m\u001b[37m\u001b[0m \u001b[1m3s\u001b[0m 2ms/step - accuracy: 0.9273 - loss: 0.2584 - val_accuracy: 0.9360 - val_loss: 0.2267\n"
          ]
        }
      ]
    },
    {
      "cell_type": "markdown",
      "source": [
        "Save Model"
      ],
      "metadata": {
        "id": "8zUYh_KvaYTs"
      }
    },
    {
      "cell_type": "code",
      "source": [
        "model_name = \"my_mnist_model\"\n",
        "model_version = \"0001\"\n",
        "model_dir = os.path.join(\"/content/\", model_name, model_version)\n",
        "print(f\"\\nMenyimpan model ke direktori: {model_dir}\")\n",
        "model.export(model_dir)\n",
        "\n",
        "print(\"\\nStruktur direktori SavedModel:\")\n",
        "!ls -lR {os.path.join(\"/content/\", model_name)}"
      ],
      "metadata": {
        "colab": {
          "base_uri": "https://localhost:8080/"
        },
        "id": "hBee2Xd8abVX",
        "outputId": "19eb4fee-0ac9-4a17-f877-8a2d5f2a615a"
      },
      "execution_count": 5,
      "outputs": [
        {
          "output_type": "stream",
          "name": "stdout",
          "text": [
            "\n",
            "Menyimpan model ke direktori: /content/my_mnist_model/0001\n",
            "Saved artifact at '/content/my_mnist_model/0001'. The following endpoints are available:\n",
            "\n",
            "* Endpoint 'serve'\n",
            "  args_0 (POSITIONAL_ONLY): TensorSpec(shape=(None, 28, 28, 1), dtype=tf.float32, name='keras_tensor')\n",
            "Output Type:\n",
            "  TensorSpec(shape=(None, 10), dtype=tf.float32, name=None)\n",
            "Captures:\n",
            "  140639311518544: TensorSpec(shape=(), dtype=tf.resource, name=None)\n",
            "  140639311519504: TensorSpec(shape=(), dtype=tf.resource, name=None)\n",
            "  140639311518928: TensorSpec(shape=(), dtype=tf.resource, name=None)\n",
            "  140639311519312: TensorSpec(shape=(), dtype=tf.resource, name=None)\n",
            "\n",
            "Struktur direktori SavedModel:\n",
            "/content/my_mnist_model:\n",
            "total 4\n",
            "drwxr-xr-x 4 root root 4096 Jun 20 11:29 0001\n",
            "\n",
            "/content/my_mnist_model/0001:\n",
            "total 48\n",
            "drwxr-xr-x 2 root root  4096 Jun 20 11:26 assets\n",
            "-rw-r--r-- 1 root root    57 Jun 20 11:29 fingerprint.pb\n",
            "-rw-r--r-- 1 root root 33571 Jun 20 11:29 saved_model.pb\n",
            "drwxr-xr-x 2 root root  4096 Jun 20 11:29 variables\n",
            "\n",
            "/content/my_mnist_model/0001/assets:\n",
            "total 0\n",
            "\n",
            "/content/my_mnist_model/0001/variables:\n",
            "total 628\n",
            "-rw-r--r-- 1 root root 637134 Jun 20 11:29 variables.data-00000-of-00001\n",
            "-rw-r--r-- 1 root root    596 Jun 20 11:29 variables.index\n"
          ]
        }
      ]
    },
    {
      "cell_type": "markdown",
      "source": [
        "TensorFlow Serving"
      ],
      "metadata": {
        "id": "e3ysBjYoafaB"
      }
    },
    {
      "cell_type": "code",
      "source": [
        "!echo \"deb http://storage.googleapis.com/tensorflow-serving-apt stable tensorflow-model-server tensorflow-model-server-universal\" | tee /etc/apt/sources.list.d/tensorflow-serving.list && \\\n",
        "curl https://storage.googleapis.com/tensorflow-serving-apt/tensorflow-serving.release.pub.gpg | apt-key add -\n",
        "!apt update\n",
        "!apt-get install tensorflow-model-server\n"
      ],
      "metadata": {
        "colab": {
          "base_uri": "https://localhost:8080/"
        },
        "id": "ub-ZSioxahXV",
        "outputId": "ddc87ba2-715e-4140-a763-d0225972ca1d"
      },
      "execution_count": 6,
      "outputs": [
        {
          "output_type": "stream",
          "name": "stdout",
          "text": [
            "deb http://storage.googleapis.com/tensorflow-serving-apt stable tensorflow-model-server tensorflow-model-server-universal\n",
            "  % Total    % Received % Xferd  Average Speed   Time    Time     Time  Current\n",
            "                                 Dload  Upload   Total   Spent    Left  Speed\n",
            "  0     0    0     0    0     0      0      0 --:--:-- --:--:-- --:--:--     0Warning: apt-key is deprecated. Manage keyring files in trusted.gpg.d instead (see apt-key(8)).\n",
            "100  2943  100  2943    0     0   6612      0 --:--:-- --:--:-- --:--:--  6613\n",
            "OK\n",
            "Hit:1 https://developer.download.nvidia.com/compute/cuda/repos/ubuntu2204/x86_64  InRelease\n",
            "Hit:2 https://cloud.r-project.org/bin/linux/ubuntu jammy-cran40/ InRelease\n",
            "Hit:3 http://security.ubuntu.com/ubuntu jammy-security InRelease\n",
            "Hit:4 http://archive.ubuntu.com/ubuntu jammy InRelease\n",
            "Hit:5 https://r2u.stat.illinois.edu/ubuntu jammy InRelease\n",
            "Hit:6 http://storage.googleapis.com/tensorflow-serving-apt stable InRelease\n",
            "Hit:7 http://archive.ubuntu.com/ubuntu jammy-updates InRelease\n",
            "Hit:8 http://archive.ubuntu.com/ubuntu jammy-backports InRelease\n",
            "Hit:9 https://ppa.launchpadcontent.net/deadsnakes/ppa/ubuntu jammy InRelease\n",
            "Hit:10 https://ppa.launchpadcontent.net/graphics-drivers/ppa/ubuntu jammy InRelease\n",
            "Hit:11 https://ppa.launchpadcontent.net/ubuntugis/ppa/ubuntu jammy InRelease\n",
            "Reading package lists... Done\n",
            "Building dependency tree... Done\n",
            "Reading state information... Done\n",
            "40 packages can be upgraded. Run 'apt list --upgradable' to see them.\n",
            "\u001b[1;33mW: \u001b[0mSkipping acquire of configured file 'main/source/Sources' as repository 'https://r2u.stat.illinois.edu/ubuntu jammy InRelease' does not seem to provide it (sources.list entry misspelt?)\u001b[0m\n",
            "\u001b[1;33mW: \u001b[0mhttp://storage.googleapis.com/tensorflow-serving-apt/dists/stable/InRelease: Key is stored in legacy trusted.gpg keyring (/etc/apt/trusted.gpg), see the DEPRECATION section in apt-key(8) for details.\u001b[0m\n",
            "Reading package lists... Done\n",
            "Building dependency tree... Done\n",
            "Reading state information... Done\n",
            "tensorflow-model-server is already the newest version (2.19.0).\n",
            "0 upgraded, 0 newly installed, 0 to remove and 40 not upgraded.\n"
          ]
        }
      ]
    },
    {
      "cell_type": "code",
      "source": [
        "os.environ[\"MODEL_DIR\"] = os.path.join(\"/content/\", model_name)"
      ],
      "metadata": {
        "id": "WA0z67xzajPs"
      },
      "execution_count": 7,
      "outputs": []
    },
    {
      "cell_type": "code",
      "source": [
        "%%bash --bg\n",
        "nohup tensorflow_model_server \\\n",
        "  --rest_api_port=8501 \\\n",
        "  --model_name=my_mnist_model \\\n",
        "  --model_base_path=\"${MODEL_DIR}\" >server.log 2>&1\n"
      ],
      "metadata": {
        "id": "wrRQHP9zalrf"
      },
      "execution_count": 8,
      "outputs": []
    },
    {
      "cell_type": "code",
      "source": [
        "print(\"\\nServer TF Serving sedang dimulai di background...\")\n",
        "time.sleep(5)"
      ],
      "metadata": {
        "colab": {
          "base_uri": "https://localhost:8080/"
        },
        "id": "w47Gy8ROanDf",
        "outputId": "f65a2279-ca93-4872-9f3c-1d49924e9d05"
      },
      "execution_count": 9,
      "outputs": [
        {
          "output_type": "stream",
          "name": "stdout",
          "text": [
            "\n",
            "Server TF Serving sedang dimulai di background...\n"
          ]
        }
      ]
    },
    {
      "cell_type": "code",
      "source": [
        "\n",
        "X_new = X_test[:3]\n",
        "request_json = json.dumps({\n",
        "    \"signature_name\": \"serving_default\",\n",
        "    \"instances\": X_new.tolist()\n",
        "})\n",
        "SERVER_URL = \"http://localhost:8501/v1/models/my_mnist_model:predict\"\n"
      ],
      "metadata": {
        "id": "XzzFfXI-apXQ"
      },
      "execution_count": 10,
      "outputs": []
    },
    {
      "cell_type": "code",
      "source": [
        "try:\n",
        "    response = requests.post(SERVER_URL, data=request_json)\n",
        "    response.raise_for_status()\n",
        "    response_data = response.json()\n",
        "\n",
        "    print(\"Query berhasil!\")\n",
        "    y_proba = np.array(response_data[\"predictions\"])\n",
        "    y_pred = np.argmax(y_proba, axis=1)\n",
        "\n",
        "    print(f\"Prediksi dari server: {y_pred}\")\n",
        "    print(f\"Label sebenarnya:   {y_test[:3]}\")\n",
        "\n",
        "    plt.figure(figsize=(8, 4))\n",
        "    for index, image in enumerate(X_new):\n",
        "        plt.subplot(1, 3, index + 1)\n",
        "        plt.imshow(image.squeeze(), cmap=\"binary\")\n",
        "        plt.title(f\"Prediksi: {y_pred[index]}\\nAsli: {y_test[index]}\")\n",
        "        plt.axis(\"off\")\n",
        "    plt.show()\n",
        "\n",
        "except Exception as e:\n",
        "    print(f\"\\nError saat melakukan Query: {e}\")\n",
        "    print(\"\\n--- Log Server (server.log) ---\")\n",
        "    !cat server.log"
      ],
      "metadata": {
        "colab": {
          "base_uri": "https://localhost:8080/",
          "height": 316
        },
        "id": "j9SmqAI4aq5V",
        "outputId": "dc4d0e35-0062-4c36-ca9c-a20b1852b3c5"
      },
      "execution_count": 11,
      "outputs": [
        {
          "output_type": "stream",
          "name": "stdout",
          "text": [
            "Query berhasil!\n",
            "Prediksi dari server: [7 2 1]\n",
            "Label sebenarnya:   [7 2 1]\n"
          ]
        },
        {
          "output_type": "display_data",
          "data": {
            "text/plain": [
              "<Figure size 800x400 with 3 Axes>"
            ],
            "image/png": "[encoded data removed]"
          },
          "metadata": {}
        }
      ]
    },
    {
      "cell_type": "markdown",
      "source": [
        "Distribution Training with MirroredStrategy"
      ],
      "metadata": {
        "id": "TvpFN1Epasga"
      }
    },
    {
      "cell_type": "code",
      "source": [
        "distribution = tf.distribute.MirroredStrategy()\n",
        "with distribution.scope():\n",
        "    mirrored_model = keras.models.Sequential([\n",
        "        keras.layers.Flatten(input_shape=[28, 28, 1]),\n",
        "        keras.layers.Dense(100, activation=\"relu\"),\n",
        "        keras.layers.Dense(10)\n",
        "    ])\n",
        "    optimizer = keras.optimizers.Adam()\n",
        "    loss_function = keras.losses.SparseCategoricalCrossentropy(from_logits=True)\n",
        "    mirrored_model.compile(loss=loss_function,optimizer=optimizer,metrics=[\"accuracy\"])\n",
        "\n",
        "history_dist = mirrored_model.fit(X_train, y_train, epochs=10,validation_data=(X_valid, y_valid), verbose=1)\n"
      ],
      "metadata": {
        "colab": {
          "base_uri": "https://localhost:8080/"
        },
        "id": "54PUPEINatYE",
        "outputId": "efd768d9-960d-440a-c016-4d2c1929b290"
      },
      "execution_count": 12,
      "outputs": [
        {
          "output_type": "stream",
          "name": "stderr",
          "text": [
            "/usr/local/lib/python3.11/dist-packages/keras/src/layers/reshaping/flatten.py:37: UserWarning: Do not pass an `input_shape`/`input_dim` argument to a layer. When using Sequential models, prefer using an `Input(shape)` object as the first layer in the model instead.\n",
            "  super().__init__(**kwargs)\n"
          ]
        },
        {
          "output_type": "stream",
          "name": "stdout",
          "text": [
            "Epoch 1/10\n",
            "\u001b[1m1719/1719\u001b[0m \u001b[32m━━━━━━━━━━━━━━━━━━━━\u001b[0m\u001b[37m\u001b[0m \u001b[1m6s\u001b[0m 3ms/step - accuracy: 0.8635 - loss: 0.4792 - val_accuracy: 0.9598 - val_loss: 0.1359\n",
            "Epoch 2/10\n",
            "\u001b[1m1719/1719\u001b[0m \u001b[32m━━━━━━━━━━━━━━━━━━━━\u001b[0m\u001b[37m\u001b[0m \u001b[1m13s\u001b[0m 5ms/step - accuracy: 0.9617 - loss: 0.1332 - val_accuracy: 0.9712 - val_loss: 0.0985\n",
            "Epoch 3/10\n",
            "\u001b[1m1719/1719\u001b[0m \u001b[32m━━━━━━━━━━━━━━━━━━━━\u001b[0m\u001b[37m\u001b[0m \u001b[1m5s\u001b[0m 3ms/step - accuracy: 0.9731 - loss: 0.0875 - val_accuracy: 0.9740 - val_loss: 0.0878\n",
            "Epoch 4/10\n",
            "\u001b[1m1719/1719\u001b[0m \u001b[32m━━━━━━━━━━━━━━━━━━━━\u001b[0m\u001b[37m\u001b[0m \u001b[1m5s\u001b[0m 3ms/step - accuracy: 0.9810 - loss: 0.0638 - val_accuracy: 0.9756 - val_loss: 0.0797\n",
            "Epoch 5/10\n",
            "\u001b[1m1719/1719\u001b[0m \u001b[32m━━━━━━━━━━━━━━━━━━━━\u001b[0m\u001b[37m\u001b[0m \u001b[1m10s\u001b[0m 3ms/step - accuracy: 0.9845 - loss: 0.0519 - val_accuracy: 0.9768 - val_loss: 0.0762\n",
            "Epoch 6/10\n",
            "\u001b[1m1719/1719\u001b[0m \u001b[32m━━━━━━━━━━━━━━━━━━━━\u001b[0m\u001b[37m\u001b[0m \u001b[1m5s\u001b[0m 3ms/step - accuracy: 0.9876 - loss: 0.0400 - val_accuracy: 0.9780 - val_loss: 0.0700\n",
            "Epoch 7/10\n",
            "\u001b[1m1719/1719\u001b[0m \u001b[32m━━━━━━━━━━━━━━━━━━━━\u001b[0m\u001b[37m\u001b[0m \u001b[1m10s\u001b[0m 3ms/step - accuracy: 0.9917 - loss: 0.0290 - val_accuracy: 0.9786 - val_loss: 0.0703\n",
            "Epoch 8/10\n",
            "\u001b[1m1719/1719\u001b[0m \u001b[32m━━━━━━━━━━━━━━━━━━━━\u001b[0m\u001b[37m\u001b[0m \u001b[1m6s\u001b[0m 3ms/step - accuracy: 0.9921 - loss: 0.0265 - val_accuracy: 0.9778 - val_loss: 0.0816\n",
            "Epoch 9/10\n",
            "\u001b[1m1719/1719\u001b[0m \u001b[32m━━━━━━━━━━━━━━━━━━━━\u001b[0m\u001b[37m\u001b[0m \u001b[1m10s\u001b[0m 3ms/step - accuracy: 0.9934 - loss: 0.0215 - val_accuracy: 0.9784 - val_loss: 0.0735\n",
            "Epoch 10/10\n",
            "\u001b[1m1719/1719\u001b[0m \u001b[32m━━━━━━━━━━━━━━━━━━━━\u001b[0m\u001b[37m\u001b[0m \u001b[1m6s\u001b[0m 3ms/step - accuracy: 0.9947 - loss: 0.0169 - val_accuracy: 0.9782 - val_loss: 0.0838\n"
          ]
        }
      ]
    },
    {
      "cell_type": "markdown",
      "source": [
        "Evaluate"
      ],
      "metadata": {
        "id": "nz6ccc1kaxAr"
      }
    },
    {
      "cell_type": "code",
      "source": [
        "print(\"\\nEvaluasi akhir model:\")\n",
        "loss, accuracy = mirrored_model.evaluate(X_test, y_test)\n",
        "print(f\"Loss Test: {loss:.4f}, Akurasi Test: {accuracy:.4f}\")\n"
      ],
      "metadata": {
        "colab": {
          "base_uri": "https://localhost:8080/"
        },
        "id": "WvDrW72oayKe",
        "outputId": "949d526c-8f4f-42da-9f1b-dbee2ff8846d"
      },
      "execution_count": 13,
      "outputs": [
        {
          "output_type": "stream",
          "name": "stdout",
          "text": [
            "\n",
            "Evaluasi akhir model:\n",
            "\u001b[1m313/313\u001b[0m \u001b[32m━━━━━━━━━━━━━━━━━━━━\u001b[0m\u001b[37m\u001b[0m \u001b[1m1s\u001b[0m 2ms/step - accuracy: 0.9731 - loss: 0.1015\n",
            "Loss Test: 0.0882, Akurasi Test: 0.9762\n"
          ]
        }
      ]
    },
    {
      "cell_type": "code",
      "source": [
        "pd.DataFrame(history_dist.history).plot(figsize=(8, 5))\n",
        "plt.grid(True)\n",
        "plt.gca().set_ylim(0, 1)\n",
        "plt.title(\"Curve\")\n",
        "plt.xlabel(\"Epoch\")\n",
        "plt.ylabel(\"Loss/Accuracy\")\n",
        "plt.show()"
      ],
      "metadata": {
        "colab": {
          "base_uri": "https://localhost:8080/",
          "height": 487
        },
        "id": "DM-zX7VDazo7",
        "outputId": "1b65bc8c-eccb-4ec8-c161-38950132dba6"
      },
      "execution_count": 14,
      "outputs": [
        {
          "output_type": "display_data",
          "data": {
            "text/plain": [
              "<Figure size 800x500 with 1 Axes>"
            ],
            "image/png": "[encoded data removed]"
          },
          "metadata": {}
        }
      ]
    }
  ]
}