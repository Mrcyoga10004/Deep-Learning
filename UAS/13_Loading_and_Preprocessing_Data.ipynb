{
  "nbformat": 4,
  "nbformat_minor": 0,
  "metadata": {
    "colab": {
      "provenance": []
    },
    "kernelspec": {
      "name": "python3",
      "display_name": "Python 3"
    },
    "language_info": {
      "name": "python"
    }
  },
  "cells": [
    {
      "cell_type": "markdown",
      "metadata": {
        "id": "view-in-github"
      },
      "source": [
        "<a href=\"https://colab.research.google.com/github/Marcellinus08/Deep-Learning/blob/main/Loading_and_Preprocessing_Data.ipynb\" target=\"_parent\"><img src=\"https://colab.research.google.com/assets/colab-badge.svg\" alt=\"Open In Colab\"/></a>"
      ]
    },
    {
      "cell_type": "markdown",
      "source": [],
      "metadata": {
        "id": "ZZ4AjkfiukqL"
      }
    },
    {
      "cell_type": "markdown",
      "source": [
        "Import Library"
      ],
      "metadata": {
        "id": "oGXU889fumef"
      }
    },
    {
      "cell_type": "code",
      "execution_count": 1,
      "metadata": {
        "id": "gzkNpqZLuVUX"
      },
      "outputs": [],
      "source": [
        "import tensorflow as tf\n",
        "from tensorflow import keras\n",
        "import numpy as np\n",
        "import pandas as pd\n",
        "from sklearn.model_selection import train_test_split\n",
        "from sklearn.preprocessing import StandardScaler\n",
        "from sklearn.datasets import fetch_california_housing\n",
        "import os\n"
      ]
    },
    {
      "cell_type": "markdown",
      "source": [
        "Data Prep"
      ],
      "metadata": {
        "id": "VOC0zsyyuq1n"
      }
    },
    {
      "cell_type": "code",
      "source": [
        "housing = fetch_california_housing()\n",
        "X_train_full, X_test, y_train_full, y_test = train_test_split(housing.data, housing.target.reshape(-1, 1), random_state=42)\n",
        "X_train, X_valid, y_train, y_valid = train_test_split(X_train_full, y_train_full, random_state=42)"
      ],
      "metadata": {
        "id": "p8DI6tyrurXE"
      },
      "execution_count": 2,
      "outputs": []
    },
    {
      "cell_type": "markdown",
      "source": [
        "Normalisasi data"
      ],
      "metadata": {
        "id": "NkkkYOxduuIv"
      }
    },
    {
      "cell_type": "code",
      "source": [
        "scaler = StandardScaler()\n",
        "scaler.fit(X_train)\n",
        "X_mean = scaler.mean_\n",
        "X_std = scaler.scale_\n"
      ],
      "metadata": {
        "id": "sAYT0z_luu-k"
      },
      "execution_count": 3,
      "outputs": []
    },
    {
      "cell_type": "code",
      "source": [
        "def save_to_multiple_csv_files(data, name_prefix, header=None, n_parts=10):\n",
        "    housing_dir = os.path.join(\"datasets\", \"housing\")\n",
        "    os.makedirs(housing_dir, exist_ok=True)\n",
        "    path_format = os.path.join(housing_dir, f\"my_{name_prefix}_{{:02d}}.csv\")\n",
        "\n",
        "    filepaths = []\n",
        "    m = len(data)\n",
        "    for file_idx, row_indices in enumerate(np.array_split(np.arange(m), n_parts)):\n",
        "        part_csv = path_format.format(file_idx)\n",
        "        filepaths.append(part_csv)\n",
        "        with open(part_csv, \"w\") as f:\n",
        "            if header is not None:\n",
        "                f.write(header)\n",
        "                f.write(\"\\n\")\n",
        "            for row_idx in row_indices:\n",
        "                f.write(\",\".join([str(col) for col in data[row_idx]]))\n",
        "                f.write(\"\\n\")\n",
        "    return filepaths"
      ],
      "metadata": {
        "id": "JwQ_TKS9uyGd"
      },
      "execution_count": 4,
      "outputs": []
    },
    {
      "cell_type": "code",
      "source": [
        "train_data = np.c_[X_train, y_train]\n",
        "valid_data = np.c_[X_valid, y_valid]\n",
        "test_data = np.c_[X_test, y_test]\n",
        "header_cols = housing.feature_names + [\"MedianHouseValue\"]\n",
        "header = \",\".join(header_cols)"
      ],
      "metadata": {
        "id": "UgFlq3Iquy-f"
      },
      "execution_count": 5,
      "outputs": []
    },
    {
      "cell_type": "markdown",
      "source": [
        "Save to File"
      ],
      "metadata": {
        "id": "QtTfmKpDu1ke"
      }
    },
    {
      "cell_type": "code",
      "source": [
        "train_filepaths = save_to_multiple_csv_files(train_data, \"train\", header, n_parts=20)\n",
        "valid_filepaths = save_to_multiple_csv_files(valid_data, \"valid\", header, n_parts=10)\n",
        "test_filepaths = save_to_multiple_csv_files(test_data, \"test\", header, n_parts=10)"
      ],
      "metadata": {
        "id": "p7pDBRmYu179"
      },
      "execution_count": 6,
      "outputs": []
    },
    {
      "cell_type": "markdown",
      "source": [
        "Pipelining"
      ],
      "metadata": {
        "id": "4_7lJsu7u4Om"
      }
    },
    {
      "cell_type": "code",
      "source": [
        "def parse_csv_line(line):\n",
        "    defs = [0.] * len(header_cols) # Default untuk setiap kolom adalah float\n",
        "    fields = tf.io.decode_csv(line, record_defaults=defs)\n",
        "    x = tf.stack(fields[:-1])\n",
        "    y = tf.stack(fields[-1:])\n",
        "    return x, y\n",
        "\n",
        "def csv_reader_dataset(filepaths, n_readers=5, n_parse_threads=5,\n",
        "                       n_shuffle=10000, batch_size=32):\n",
        "    # Membuat dataset dari path file\n",
        "    dataset = tf.data.Dataset.list_files(filepaths)\n",
        "    # Membaca dari beberapa file secara paralel\n",
        "    dataset = dataset.interleave(\n",
        "        lambda filepath: tf.data.TextLineDataset(filepath).skip(1),\n",
        "        cycle_length=n_readers)\n",
        "    # Parsing baris CSV secara paralel\n",
        "    dataset = dataset.map(parse_csv_line, num_parallel_calls=n_parse_threads)\n",
        "    # Shuffle data\n",
        "    dataset = dataset.shuffle(n_shuffle)\n",
        "    # Batch data dan prefetch\n",
        "    return dataset.batch(batch_size).prefetch(1)"
      ],
      "metadata": {
        "id": "B1u-5MkOu4Am"
      },
      "execution_count": 7,
      "outputs": []
    },
    {
      "cell_type": "markdown",
      "source": [
        "Membuat dataset untuk training"
      ],
      "metadata": {
        "id": "7dkbFOMju84T"
      }
    },
    {
      "cell_type": "code",
      "source": [
        "train_set = csv_reader_dataset(train_filepaths, batch_size=32)\n",
        "valid_set = csv_reader_dataset(valid_filepaths, batch_size=32)\n",
        "test_set = csv_reader_dataset(test_filepaths, batch_size=32)\n"
      ],
      "metadata": {
        "id": "u2x_C04Pu9Ns"
      },
      "execution_count": 8,
      "outputs": []
    },
    {
      "cell_type": "markdown",
      "source": [
        "Building Model"
      ],
      "metadata": {
        "id": "O1KRdACAu_zb"
      }
    },
    {
      "cell_type": "code",
      "source": [
        "class Standardization(keras.layers.Layer):\n",
        "    def __init__(self, **kwargs):\n",
        "        super().__init__(**kwargs)\n",
        "        self.mean = tf.constant(X_mean, dtype=tf.float32)\n",
        "        self.std = tf.constant(X_std, dtype=tf.float32)\n",
        "    def call(self, inputs):\n",
        "        return (inputs - self.mean) / self.std\n"
      ],
      "metadata": {
        "id": "iCs9KPQQvArj"
      },
      "execution_count": 9,
      "outputs": []
    },
    {
      "cell_type": "code",
      "source": [
        "n_features = housing.data.shape[1]\n",
        "model = keras.models.Sequential([\n",
        "    Standardization(input_shape=[n_features]),\n",
        "    keras.layers.Dense(30, activation=\"relu\"),\n",
        "    keras.layers.Dense(1)\n",
        "])"
      ],
      "metadata": {
        "colab": {
          "base_uri": "https://localhost:8080/"
        },
        "id": "ACraJFhGvCgh",
        "outputId": "a0eedacd-a3cc-46fb-b564-8402fe6a1b4b"
      },
      "execution_count": 10,
      "outputs": [
        {
          "output_type": "stream",
          "name": "stderr",
          "text": [
            "/tmp/ipython-input-9-2029506713.py:3: UserWarning: Do not pass an `input_shape`/`input_dim` argument to a layer. When using Sequential models, prefer using an `Input(shape)` object as the first layer in the model instead.\n",
            "  super().__init__(**kwargs)\n"
          ]
        }
      ]
    },
    {
      "cell_type": "markdown",
      "source": [
        "Training Model"
      ],
      "metadata": {
        "id": "72BeyEkzvFH6"
      }
    },
    {
      "cell_type": "code",
      "source": [
        "model.compile(loss=\"mse\", optimizer=\"nadam\", metrics=[\"RootMeanSquaredError\"])\n",
        "history = model.fit(train_set, epochs=5, validation_data=valid_set)"
      ],
      "metadata": {
        "colab": {
          "base_uri": "https://localhost:8080/"
        },
        "id": "8tJkc2awvFgX",
        "outputId": "775b94ad-086c-4240-b084-d0e0d13dddef"
      },
      "execution_count": 11,
      "outputs": [
        {
          "output_type": "stream",
          "name": "stdout",
          "text": [
            "Epoch 1/5\n",
            "    361/Unknown \u001b[1m9s\u001b[0m 5ms/step - RootMeanSquaredError: 1.8650 - loss: 3.6099"
          ]
        },
        {
          "output_type": "stream",
          "name": "stderr",
          "text": [
            "/usr/local/lib/python3.11/dist-packages/keras/src/trainers/epoch_iterator.py:151: UserWarning: Your input ran out of data; interrupting training. Make sure that your dataset or generator can generate at least `steps_per_epoch * epochs` batches. You may need to use the `.repeat()` function when building your dataset.\n",
            "  self._interrupted_warning()\n"
          ]
        },
        {
          "output_type": "stream",
          "name": "stdout",
          "text": [
            "\b\b\b\b\b\b\b\b\b\b\b\b\b\b\b\b\b\b\b\b\b\b\b\b\b\b\b\b\b\b\b\b\b\b\b\b\b\b\b\b\b\b\b\b\b\b\b\b\b\b\b\b\b\b\b\b\b\b\b\b\b\b\b\b\b\b\b\b\b\b\b\b\b\r\u001b[1m363/363\u001b[0m \u001b[32m━━━━━━━━━━━━━━━━━━━━\u001b[0m\u001b[37m\u001b[0m \u001b[1m10s\u001b[0m 7ms/step - RootMeanSquaredError: 1.8613 - loss: 3.5965 - val_RootMeanSquaredError: 1.3839 - val_loss: 1.9152\n",
            "Epoch 2/5\n",
            "\u001b[1m363/363\u001b[0m \u001b[32m━━━━━━━━━━━━━━━━━━━━\u001b[0m\u001b[37m\u001b[0m \u001b[1m2s\u001b[0m 3ms/step - RootMeanSquaredError: 0.8194 - loss: 0.6717 - val_RootMeanSquaredError: 0.8221 - val_loss: 0.6759\n",
            "Epoch 3/5\n",
            "\u001b[1m363/363\u001b[0m \u001b[32m━━━━━━━━━━━━━━━━━━━━\u001b[0m\u001b[37m\u001b[0m \u001b[1m2s\u001b[0m 3ms/step - RootMeanSquaredError: 0.7325 - loss: 0.5370 - val_RootMeanSquaredError: 0.7505 - val_loss: 0.5632\n",
            "Epoch 4/5\n",
            "\u001b[1m363/363\u001b[0m \u001b[32m━━━━━━━━━━━━━━━━━━━━\u001b[0m\u001b[37m\u001b[0m \u001b[1m2s\u001b[0m 3ms/step - RootMeanSquaredError: 0.6755 - loss: 0.4565 - val_RootMeanSquaredError: 0.6258 - val_loss: 0.3916\n",
            "Epoch 5/5\n",
            "\u001b[1m363/363\u001b[0m \u001b[32m━━━━━━━━━━━━━━━━━━━━\u001b[0m\u001b[37m\u001b[0m \u001b[1m3s\u001b[0m 6ms/step - RootMeanSquaredError: 0.6529 - loss: 0.4264 - val_RootMeanSquaredError: 0.8872 - val_loss: 0.7872\n"
          ]
        }
      ]
    },
    {
      "cell_type": "markdown",
      "source": [
        "Evaluasi"
      ],
      "metadata": {
        "id": "IxH6NmYEvKD5"
      }
    },
    {
      "cell_type": "code",
      "source": [
        "print(\"\\nEvaluasi pada test set:\")\n",
        "mse_test, rmse_test = model.evaluate(test_set)\n"
      ],
      "metadata": {
        "colab": {
          "base_uri": "https://localhost:8080/"
        },
        "id": "_Rn8ds0dvKhc",
        "outputId": "9a6fe227-763d-4d15-edc0-e3096dde41a4"
      },
      "execution_count": 12,
      "outputs": [
        {
          "output_type": "stream",
          "name": "stdout",
          "text": [
            "\n",
            "Evaluasi pada test set:\n",
            "\u001b[1m162/162\u001b[0m \u001b[32m━━━━━━━━━━━━━━━━━━━━\u001b[0m\u001b[37m\u001b[0m \u001b[1m0s\u001b[0m 2ms/step - RootMeanSquaredError: 0.6185 - loss: 0.3830\n"
          ]
        }
      ]
    },
    {
      "cell_type": "code",
      "source": [
        "print(\"\\nMembuat prediksi pada data baru:\")\n",
        "X_new = X_test[:3]\n",
        "y_pred = model.predict(X_new)\n"
      ],
      "metadata": {
        "colab": {
          "base_uri": "https://localhost:8080/"
        },
        "id": "ow2JQkdHvN2M",
        "outputId": "288b9e28-0e85-491d-fc03-2824137ac79a"
      },
      "execution_count": 13,
      "outputs": [
        {
          "output_type": "stream",
          "name": "stdout",
          "text": [
            "\n",
            "Membuat prediksi pada data baru:\n",
            "\u001b[1m1/1\u001b[0m \u001b[32m━━━━━━━━━━━━━━━━━━━━\u001b[0m\u001b[37m\u001b[0m \u001b[1m0s\u001b[0m 69ms/step\n"
          ]
        }
      ]
    },
    {
      "cell_type": "code",
      "source": [
        "print(\"Prediksi:\", y_pred.flatten())\n",
        "print(\"Label Sebenarnya:\", y_test[:3].flatten())"
      ],
      "metadata": {
        "colab": {
          "base_uri": "https://localhost:8080/"
        },
        "id": "QEzoGd7xvQqk",
        "outputId": "e29beaec-ac4b-4987-920b-d03615d7a114"
      },
      "execution_count": 14,
      "outputs": [
        {
          "output_type": "stream",
          "name": "stdout",
          "text": [
            "Prediksi: [0.34544224 1.7420028  3.5641167 ]\n",
            "Label Sebenarnya: [0.477   0.458   5.00001]\n"
          ]
        }
      ]
    }
  ]
}