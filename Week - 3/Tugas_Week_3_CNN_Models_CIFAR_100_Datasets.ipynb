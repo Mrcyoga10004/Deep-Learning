{
  "cells": [
    {
      "cell_type": "markdown",
      "metadata": {
        "id": "view-in-github",
        "colab_type": "text"
      },
      "source": [
        "<a href=\"https://colab.research.google.com/github/Mrcyoga10004/Deep-Learning/blob/main/Tugas_Week_3_CNN_Models_CIFAR_100_Datasets.ipynb\" target=\"_parent\"><img src=\"https://colab.research.google.com/assets/colab-badge.svg\" alt=\"Open In Colab\"/></a>"
      ]
    },
    {
      "cell_type": "markdown",
      "metadata": {
        "id": "wknf2OoHddU0"
      },
      "source": [
        "Nama : Marcelleno Yoga\n",
        "Nim : 1103210004\n",
        "Tugas 3 CNN- Models: CIFAR-100 Datasets"
      ]
    },
    {
      "cell_type": "markdown",
      "metadata": {
        "id": "THImFDrdcuDY"
      },
      "source": [
        "# Persiapan: Instalasi library"
      ]
    },
    {
      "cell_type": "code",
      "execution_count": null,
      "metadata": {
        "colab": {
          "base_uri": "https://localhost:8080/"
        },
        "id": "UI-RHib4pRBV",
        "outputId": "b378b98c-7723-413c-8de1-056ae52449b4"
      },
      "outputs": [
        {
          "name": "stdout",
          "output_type": "stream",
          "text": [
            "Requirement already satisfied: numpy in /usr/local/lib/python3.11/dist-packages (2.0.2)\n",
            "Requirement already satisfied: matplotlib in /usr/local/lib/python3.11/dist-packages (3.10.0)\n",
            "Requirement already satisfied: scikit-learn in /usr/local/lib/python3.11/dist-packages (1.6.1)\n",
            "Requirement already satisfied: torch in /usr/local/lib/python3.11/dist-packages (2.6.0+cu124)\n",
            "Requirement already satisfied: tensorflow in /usr/local/lib/python3.11/dist-packages (2.18.0)\n",
            "Requirement already satisfied: contourpy>=1.0.1 in /usr/local/lib/python3.11/dist-packages (from matplotlib) (1.3.1)\n",
            "Requirement already satisfied: cycler>=0.10 in /usr/local/lib/python3.11/dist-packages (from matplotlib) (0.12.1)\n",
            "Requirement already satisfied: fonttools>=4.22.0 in /usr/local/lib/python3.11/dist-packages (from matplotlib) (4.56.0)\n",
            "Requirement already satisfied: kiwisolver>=1.3.1 in /usr/local/lib/python3.11/dist-packages (from matplotlib) (1.4.8)\n",
            "Requirement already satisfied: packaging>=20.0 in /usr/local/lib/python3.11/dist-packages (from matplotlib) (24.2)\n",
            "Requirement already satisfied: pillow>=8 in /usr/local/lib/python3.11/dist-packages (from matplotlib) (11.1.0)\n",
            "Requirement already satisfied: pyparsing>=2.3.1 in /usr/local/lib/python3.11/dist-packages (from matplotlib) (3.2.1)\n",
            "Requirement already satisfied: python-dateutil>=2.7 in /usr/local/lib/python3.11/dist-packages (from matplotlib) (2.8.2)\n",
            "Requirement already satisfied: scipy>=1.6.0 in /usr/local/lib/python3.11/dist-packages (from scikit-learn) (1.14.1)\n",
            "Requirement already satisfied: joblib>=1.2.0 in /usr/local/lib/python3.11/dist-packages (from scikit-learn) (1.4.2)\n",
            "Requirement already satisfied: threadpoolctl>=3.1.0 in /usr/local/lib/python3.11/dist-packages (from scikit-learn) (3.6.0)\n",
            "Requirement already satisfied: filelock in /usr/local/lib/python3.11/dist-packages (from torch) (3.18.0)\n",
            "Requirement already satisfied: typing-extensions>=4.10.0 in /usr/local/lib/python3.11/dist-packages (from torch) (4.12.2)\n",
            "Requirement already satisfied: networkx in /usr/local/lib/python3.11/dist-packages (from torch) (3.4.2)\n",
            "Requirement already satisfied: jinja2 in /usr/local/lib/python3.11/dist-packages (from torch) (3.1.6)\n",
            "Requirement already satisfied: fsspec in /usr/local/lib/python3.11/dist-packages (from torch) (2025.3.0)\n",
            "Collecting nvidia-cuda-nvrtc-cu12==12.4.127 (from torch)\n",
            "  Downloading nvidia_cuda_nvrtc_cu12-12.4.127-py3-none-manylinux2014_x86_64.whl.metadata (1.5 kB)\n",
            "Collecting nvidia-cuda-runtime-cu12==12.4.127 (from torch)\n",
            "  Downloading nvidia_cuda_runtime_cu12-12.4.127-py3-none-manylinux2014_x86_64.whl.metadata (1.5 kB)\n",
            "Collecting nvidia-cuda-cupti-cu12==12.4.127 (from torch)\n",
            "  Downloading nvidia_cuda_cupti_cu12-12.4.127-py3-none-manylinux2014_x86_64.whl.metadata (1.6 kB)\n",
            "Collecting nvidia-cudnn-cu12==9.1.0.70 (from torch)\n",
            "  Downloading nvidia_cudnn_cu12-9.1.0.70-py3-none-manylinux2014_x86_64.whl.metadata (1.6 kB)\n",
            "Collecting nvidia-cublas-cu12==12.4.5.8 (from torch)\n",
            "  Downloading nvidia_cublas_cu12-12.4.5.8-py3-none-manylinux2014_x86_64.whl.metadata (1.5 kB)\n",
            "Collecting nvidia-cufft-cu12==11.2.1.3 (from torch)\n",
            "  Downloading nvidia_cufft_cu12-11.2.1.3-py3-none-manylinux2014_x86_64.whl.metadata (1.5 kB)\n",
            "Collecting nvidia-curand-cu12==10.3.5.147 (from torch)\n",
            "  Downloading nvidia_curand_cu12-10.3.5.147-py3-none-manylinux2014_x86_64.whl.metadata (1.5 kB)\n",
            "Collecting nvidia-cusolver-cu12==11.6.1.9 (from torch)\n",
            "  Downloading nvidia_cusolver_cu12-11.6.1.9-py3-none-manylinux2014_x86_64.whl.metadata (1.6 kB)\n",
            "Collecting nvidia-cusparse-cu12==12.3.1.170 (from torch)\n",
            "  Downloading nvidia_cusparse_cu12-12.3.1.170-py3-none-manylinux2014_x86_64.whl.metadata (1.6 kB)\n",
            "Requirement already satisfied: nvidia-cusparselt-cu12==0.6.2 in /usr/local/lib/python3.11/dist-packages (from torch) (0.6.2)\n",
            "Requirement already satisfied: nvidia-nccl-cu12==2.21.5 in /usr/local/lib/python3.11/dist-packages (from torch) (2.21.5)\n",
            "Requirement already satisfied: nvidia-nvtx-cu12==12.4.127 in /usr/local/lib/python3.11/dist-packages (from torch) (12.4.127)\n",
            "Collecting nvidia-nvjitlink-cu12==12.4.127 (from torch)\n",
            "  Downloading nvidia_nvjitlink_cu12-12.4.127-py3-none-manylinux2014_x86_64.whl.metadata (1.5 kB)\n",
            "Requirement already satisfied: triton==3.2.0 in /usr/local/lib/python3.11/dist-packages (from torch) (3.2.0)\n",
            "Requirement already satisfied: sympy==1.13.1 in /usr/local/lib/python3.11/dist-packages (from torch) (1.13.1)\n",
            "Requirement already satisfied: mpmath<1.4,>=1.1.0 in /usr/local/lib/python3.11/dist-packages (from sympy==1.13.1->torch) (1.3.0)\n",
            "Requirement already satisfied: absl-py>=1.0.0 in /usr/local/lib/python3.11/dist-packages (from tensorflow) (1.4.0)\n",
            "Requirement already satisfied: astunparse>=1.6.0 in /usr/local/lib/python3.11/dist-packages (from tensorflow) (1.6.3)\n",
            "Requirement already satisfied: flatbuffers>=24.3.25 in /usr/local/lib/python3.11/dist-packages (from tensorflow) (25.2.10)\n",
            "Requirement already satisfied: gast!=0.5.0,!=0.5.1,!=0.5.2,>=0.2.1 in /usr/local/lib/python3.11/dist-packages (from tensorflow) (0.6.0)\n",
            "Requirement already satisfied: google-pasta>=0.1.1 in /usr/local/lib/python3.11/dist-packages (from tensorflow) (0.2.0)\n",
            "Requirement already satisfied: libclang>=13.0.0 in /usr/local/lib/python3.11/dist-packages (from tensorflow) (18.1.1)\n",
            "Requirement already satisfied: opt-einsum>=2.3.2 in /usr/local/lib/python3.11/dist-packages (from tensorflow) (3.4.0)\n",
            "Requirement already satisfied: protobuf!=4.21.0,!=4.21.1,!=4.21.2,!=4.21.3,!=4.21.4,!=4.21.5,<6.0.0dev,>=3.20.3 in /usr/local/lib/python3.11/dist-packages (from tensorflow) (5.29.4)\n",
            "Requirement already satisfied: requests<3,>=2.21.0 in /usr/local/lib/python3.11/dist-packages (from tensorflow) (2.32.3)\n",
            "Requirement already satisfied: setuptools in /usr/local/lib/python3.11/dist-packages (from tensorflow) (75.1.0)\n",
            "Requirement already satisfied: six>=1.12.0 in /usr/local/lib/python3.11/dist-packages (from tensorflow) (1.17.0)\n",
            "Requirement already satisfied: termcolor>=1.1.0 in /usr/local/lib/python3.11/dist-packages (from tensorflow) (2.5.0)\n",
            "Requirement already satisfied: wrapt>=1.11.0 in /usr/local/lib/python3.11/dist-packages (from tensorflow) (1.17.2)\n",
            "Requirement already satisfied: grpcio<2.0,>=1.24.3 in /usr/local/lib/python3.11/dist-packages (from tensorflow) (1.71.0)\n",
            "Requirement already satisfied: tensorboard<2.19,>=2.18 in /usr/local/lib/python3.11/dist-packages (from tensorflow) (2.18.0)\n",
            "Requirement already satisfied: keras>=3.5.0 in /usr/local/lib/python3.11/dist-packages (from tensorflow) (3.8.0)\n",
            "Requirement already satisfied: h5py>=3.11.0 in /usr/local/lib/python3.11/dist-packages (from tensorflow) (3.13.0)\n",
            "Requirement already satisfied: ml-dtypes<0.5.0,>=0.4.0 in /usr/local/lib/python3.11/dist-packages (from tensorflow) (0.4.1)\n",
            "Requirement already satisfied: tensorflow-io-gcs-filesystem>=0.23.1 in /usr/local/lib/python3.11/dist-packages (from tensorflow) (0.37.1)\n",
            "Requirement already satisfied: wheel<1.0,>=0.23.0 in /usr/local/lib/python3.11/dist-packages (from astunparse>=1.6.0->tensorflow) (0.45.1)\n",
            "Requirement already satisfied: rich in /usr/local/lib/python3.11/dist-packages (from keras>=3.5.0->tensorflow) (13.9.4)\n",
            "Requirement already satisfied: namex in /usr/local/lib/python3.11/dist-packages (from keras>=3.5.0->tensorflow) (0.0.8)\n",
            "Requirement already satisfied: optree in /usr/local/lib/python3.11/dist-packages (from keras>=3.5.0->tensorflow) (0.14.1)\n",
            "Requirement already satisfied: charset-normalizer<4,>=2 in /usr/local/lib/python3.11/dist-packages (from requests<3,>=2.21.0->tensorflow) (3.4.1)\n",
            "Requirement already satisfied: idna<4,>=2.5 in /usr/local/lib/python3.11/dist-packages (from requests<3,>=2.21.0->tensorflow) (3.10)\n",
            "Requirement already satisfied: urllib3<3,>=1.21.1 in /usr/local/lib/python3.11/dist-packages (from requests<3,>=2.21.0->tensorflow) (2.3.0)\n",
            "Requirement already satisfied: certifi>=2017.4.17 in /usr/local/lib/python3.11/dist-packages (from requests<3,>=2.21.0->tensorflow) (2025.1.31)\n",
            "Requirement already satisfied: markdown>=2.6.8 in /usr/local/lib/python3.11/dist-packages (from tensorboard<2.19,>=2.18->tensorflow) (3.7)\n",
            "Requirement already satisfied: tensorboard-data-server<0.8.0,>=0.7.0 in /usr/local/lib/python3.11/dist-packages (from tensorboard<2.19,>=2.18->tensorflow) (0.7.2)\n",
            "Requirement already satisfied: werkzeug>=1.0.1 in /usr/local/lib/python3.11/dist-packages (from tensorboard<2.19,>=2.18->tensorflow) (3.1.3)\n",
            "Requirement already satisfied: MarkupSafe>=2.0 in /usr/local/lib/python3.11/dist-packages (from jinja2->torch) (3.0.2)\n",
            "Requirement already satisfied: markdown-it-py>=2.2.0 in /usr/local/lib/python3.11/dist-packages (from rich->keras>=3.5.0->tensorflow) (3.0.0)\n",
            "Requirement already satisfied: pygments<3.0.0,>=2.13.0 in /usr/local/lib/python3.11/dist-packages (from rich->keras>=3.5.0->tensorflow) (2.18.0)\n",
            "Requirement already satisfied: mdurl~=0.1 in /usr/local/lib/python3.11/dist-packages (from markdown-it-py>=2.2.0->rich->keras>=3.5.0->tensorflow) (0.1.2)\n",
            "Downloading nvidia_cublas_cu12-12.4.5.8-py3-none-manylinux2014_x86_64.whl (363.4 MB)\n",
            "\u001b[2K   \u001b[90m━━━━━━━━━━━━━━━━━━━━━━━━━━━━━━━━━━━━━━━━\u001b[0m \u001b[32m363.4/363.4 MB\u001b[0m \u001b[31m2.9 MB/s\u001b[0m eta \u001b[36m0:00:00\u001b[0m\n",
            "\u001b[?25hDownloading nvidia_cuda_cupti_cu12-12.4.127-py3-none-manylinux2014_x86_64.whl (13.8 MB)\n",
            "\u001b[2K   \u001b[90m━━━━━━━━━━━━━━━━━━━━━━━━━━━━━━━━━━━━━━━━\u001b[0m \u001b[32m13.8/13.8 MB\u001b[0m \u001b[31m22.3 MB/s\u001b[0m eta \u001b[36m0:00:00\u001b[0m\n",
            "\u001b[?25hDownloading nvidia_cuda_nvrtc_cu12-12.4.127-py3-none-manylinux2014_x86_64.whl (24.6 MB)\n",
            "\u001b[2K   \u001b[90m━━━━━━━━━━━━━━━━━━━━━━━━━━━━━━━━━━━━━━━━\u001b[0m \u001b[32m24.6/24.6 MB\u001b[0m \u001b[31m29.0 MB/s\u001b[0m eta \u001b[36m0:00:00\u001b[0m\n",
            "\u001b[?25hDownloading nvidia_cuda_runtime_cu12-12.4.127-py3-none-manylinux2014_x86_64.whl (883 kB)\n",
            "\u001b[2K   \u001b[90m━━━━━━━━━━━━━━━━━━━━━━━━━━━━━━━━━━━━━━━━\u001b[0m \u001b[32m883.7/883.7 kB\u001b[0m \u001b[31m36.3 MB/s\u001b[0m eta \u001b[36m0:00:00\u001b[0m\n",
            "\u001b[?25hDownloading nvidia_cudnn_cu12-9.1.0.70-py3-none-manylinux2014_x86_64.whl (664.8 MB)\n",
            "\u001b[2K   \u001b[90m━━━━━━━━━━━━━━━━━━━━━━━━━━━━━━━━━━━━━━━━\u001b[0m \u001b[32m664.8/664.8 MB\u001b[0m \u001b[31m1.3 MB/s\u001b[0m eta \u001b[36m0:00:00\u001b[0m\n",
            "\u001b[?25hDownloading nvidia_cufft_cu12-11.2.1.3-py3-none-manylinux2014_x86_64.whl (211.5 MB)\n",
            "\u001b[2K   \u001b[90m━━━━━━━━━━━━━━━━━━━━━━━━━━━━━━━━━━━━━━━━\u001b[0m \u001b[32m211.5/211.5 MB\u001b[0m \u001b[31m5.1 MB/s\u001b[0m eta \u001b[36m0:00:00\u001b[0m\n",
            "\u001b[?25hDownloading nvidia_curand_cu12-10.3.5.147-py3-none-manylinux2014_x86_64.whl (56.3 MB)\n",
            "\u001b[2K   \u001b[90m━━━━━━━━━━━━━━━━━━━━━━━━━━━━━━━━━━━━━━━━\u001b[0m \u001b[32m56.3/56.3 MB\u001b[0m \u001b[31m7.4 MB/s\u001b[0m eta \u001b[36m0:00:00\u001b[0m\n",
            "\u001b[?25hDownloading nvidia_cusolver_cu12-11.6.1.9-py3-none-manylinux2014_x86_64.whl (127.9 MB)\n",
            "\u001b[2K   \u001b[90m━━━━━━━━━━━━━━━━━━━━━━━━━━━━━━━━━━━━━━━━\u001b[0m \u001b[32m127.9/127.9 MB\u001b[0m \u001b[31m5.0 MB/s\u001b[0m eta \u001b[36m0:00:00\u001b[0m\n",
            "\u001b[?25hDownloading nvidia_cusparse_cu12-12.3.1.170-py3-none-manylinux2014_x86_64.whl (207.5 MB)\n",
            "\u001b[2K   \u001b[90m━━━━━━━━━━━━━━━━━━━━━━━━━━━━━━━━━━━━━━━━\u001b[0m \u001b[32m207.5/207.5 MB\u001b[0m \u001b[31m6.3 MB/s\u001b[0m eta \u001b[36m0:00:00\u001b[0m\n",
            "\u001b[?25hDownloading nvidia_nvjitlink_cu12-12.4.127-py3-none-manylinux2014_x86_64.whl (21.1 MB)\n",
            "\u001b[2K   \u001b[90m━━━━━━━━━━━━━━━━━━━━━━━━━━━━━━━━━━━━━━━━\u001b[0m \u001b[32m21.1/21.1 MB\u001b[0m \u001b[31m41.9 MB/s\u001b[0m eta \u001b[36m0:00:00\u001b[0m\n",
            "\u001b[?25hInstalling collected packages: nvidia-nvjitlink-cu12, nvidia-curand-cu12, nvidia-cufft-cu12, nvidia-cuda-runtime-cu12, nvidia-cuda-nvrtc-cu12, nvidia-cuda-cupti-cu12, nvidia-cublas-cu12, nvidia-cusparse-cu12, nvidia-cudnn-cu12, nvidia-cusolver-cu12\n",
            "  Attempting uninstall: nvidia-nvjitlink-cu12\n",
            "    Found existing installation: nvidia-nvjitlink-cu12 12.5.82\n",
            "    Uninstalling nvidia-nvjitlink-cu12-12.5.82:\n",
            "      Successfully uninstalled nvidia-nvjitlink-cu12-12.5.82\n",
            "  Attempting uninstall: nvidia-curand-cu12\n",
            "    Found existing installation: nvidia-curand-cu12 10.3.6.82\n",
            "    Uninstalling nvidia-curand-cu12-10.3.6.82:\n",
            "      Successfully uninstalled nvidia-curand-cu12-10.3.6.82\n",
            "  Attempting uninstall: nvidia-cufft-cu12\n",
            "    Found existing installation: nvidia-cufft-cu12 11.2.3.61\n",
            "    Uninstalling nvidia-cufft-cu12-11.2.3.61:\n",
            "      Successfully uninstalled nvidia-cufft-cu12-11.2.3.61\n",
            "  Attempting uninstall: nvidia-cuda-runtime-cu12\n",
            "    Found existing installation: nvidia-cuda-runtime-cu12 12.5.82\n",
            "    Uninstalling nvidia-cuda-runtime-cu12-12.5.82:\n",
            "      Successfully uninstalled nvidia-cuda-runtime-cu12-12.5.82\n",
            "  Attempting uninstall: nvidia-cuda-nvrtc-cu12\n",
            "    Found existing installation: nvidia-cuda-nvrtc-cu12 12.5.82\n",
            "    Uninstalling nvidia-cuda-nvrtc-cu12-12.5.82:\n",
            "      Successfully uninstalled nvidia-cuda-nvrtc-cu12-12.5.82\n",
            "  Attempting uninstall: nvidia-cuda-cupti-cu12\n",
            "    Found existing installation: nvidia-cuda-cupti-cu12 12.5.82\n",
            "    Uninstalling nvidia-cuda-cupti-cu12-12.5.82:\n",
            "      Successfully uninstalled nvidia-cuda-cupti-cu12-12.5.82\n",
            "  Attempting uninstall: nvidia-cublas-cu12\n",
            "    Found existing installation: nvidia-cublas-cu12 12.5.3.2\n",
            "    Uninstalling nvidia-cublas-cu12-12.5.3.2:\n",
            "      Successfully uninstalled nvidia-cublas-cu12-12.5.3.2\n",
            "  Attempting uninstall: nvidia-cusparse-cu12\n",
            "    Found existing installation: nvidia-cusparse-cu12 12.5.1.3\n",
            "    Uninstalling nvidia-cusparse-cu12-12.5.1.3:\n",
            "      Successfully uninstalled nvidia-cusparse-cu12-12.5.1.3\n",
            "  Attempting uninstall: nvidia-cudnn-cu12\n",
            "    Found existing installation: nvidia-cudnn-cu12 9.3.0.75\n",
            "    Uninstalling nvidia-cudnn-cu12-9.3.0.75:\n",
            "      Successfully uninstalled nvidia-cudnn-cu12-9.3.0.75\n",
            "  Attempting uninstall: nvidia-cusolver-cu12\n",
            "    Found existing installation: nvidia-cusolver-cu12 11.6.3.83\n",
            "    Uninstalling nvidia-cusolver-cu12-11.6.3.83:\n",
            "      Successfully uninstalled nvidia-cusolver-cu12-11.6.3.83\n",
            "Successfully installed nvidia-cublas-cu12-12.4.5.8 nvidia-cuda-cupti-cu12-12.4.127 nvidia-cuda-nvrtc-cu12-12.4.127 nvidia-cuda-runtime-cu12-12.4.127 nvidia-cudnn-cu12-9.1.0.70 nvidia-cufft-cu12-11.2.1.3 nvidia-curand-cu12-10.3.5.147 nvidia-cusolver-cu12-11.6.1.9 nvidia-cusparse-cu12-12.3.1.170 nvidia-nvjitlink-cu12-12.4.127\n"
          ]
        }
      ],
      "source": [
        "%pip install numpy matplotlib scikit-learn torch tensorflow"
      ]
    },
    {
      "cell_type": "markdown",
      "metadata": {
        "id": "2TsJwdiCcuDZ"
      },
      "source": [
        "# Deep Learning Menggunakan PyTorch (MLP dan CNN)"
      ]
    },
    {
      "cell_type": "markdown",
      "metadata": {
        "id": "UEWECb7ocuDZ"
      },
      "source": [
        "### 1. Mengimpor Library yang Dibutuhkan"
      ]
    },
    {
      "cell_type": "code",
      "execution_count": null,
      "metadata": {
        "colab": {
          "base_uri": "https://localhost:8080/"
        },
        "id": "Xt6VuniuwQGp",
        "outputId": "1e4de201-5801-490e-a7cb-3c9b3847a5c4"
      },
      "outputs": [
        {
          "name": "stdout",
          "output_type": "stream",
          "text": [
            "Menggunakan device: cpu\n"
          ]
        }
      ],
      "source": [
        "# Import library yang diperlukan\n",
        "import torch # Library utama untuk deep learning\n",
        "import torch.nn as nn # Library untuk neural network\n",
        "import torch.optim as optim # Library untuk optimizers\n",
        "import torch.nn.functional as F # Library untuk fungsi aktivasi dan loss functions\n",
        "import torchvision # Library untuk computer vision\n",
        "import torchvision.transforms as transforms # Library untuk transformasi data\n",
        "import numpy as np # Library untuk manipulasi array\n",
        "import matplotlib.pyplot as plt # Library untuk visualisasi data\n",
        "from sklearn.metrics import accuracy_score, precision_score, recall_score, f1_score, roc_auc_score, roc_curve, auc, confusion_matrix\n",
        "\n",
        "# Mengatur device\n",
        "device = torch.device(\"cuda:0\" if torch.cuda.is_available() else \"cpu\") # Menggunakan GPU jika tersedia, jika tidak menggunakan CPU\n",
        "print(f\"Menggunakan device: {device}\")"
      ]
    },
    {
      "cell_type": "markdown",
      "metadata": {
        "id": "zUaDA9yRcuDa"
      },
      "source": [
        "### 2. Mendefinisikan Transformasi Data dan Memuat Dataset CIFAR-10"
      ]
    },
    {
      "cell_type": "code",
      "execution_count": null,
      "metadata": {
        "colab": {
          "base_uri": "https://localhost:8080/"
        },
        "id": "1scU_8fccuDa",
        "outputId": "ea847efa-9fb3-4c72-8fa8-6e79a3ea6b98"
      },
      "outputs": [
        {
          "name": "stderr",
          "output_type": "stream",
          "text": [
            "100%|██████████| 170M/170M [00:03<00:00, 55.4MB/s]\n"
          ]
        }
      ],
      "source": [
        "# Data transformations\n",
        "# Transformasi data untuk augmentasi dan normalisasi\n",
        "transform_train = transforms.Compose([\n",
        "    transforms.RandomCrop(32, padding=4),\n",
        "    transforms.RandomHorizontalFlip(),\n",
        "    transforms.ToTensor(),\n",
        "    ])\n",
        "\n",
        "transform_test = transforms.Compose([\n",
        "    transforms.ToTensor(),\n",
        "    ])\n",
        "\n",
        "# Memuat dataset CIFAR-10\n",
        "trainset = torchvision.datasets.CIFAR10(\n",
        "    root='./data', train=True, download=True, transform=transform_train)\n",
        "trainloader = torch.utils.data.DataLoader(\n",
        "    trainset, batch_size=128, shuffle=True, num_workers=2)\n",
        "\n",
        "testset = torchvision.datasets.CIFAR10(\n",
        "    root='./data', train=False, download=True, transform=transform_test)\n",
        "testloader = torch.utils.data.DataLoader(\n",
        "    testset, batch_size=128, shuffle=False, num_workers=2)\n",
        "\n",
        "# Kelas untuk CIFAR-10\n",
        "classes = ('plane', 'car', 'bird', 'cat', 'deer',\n",
        "           'dog', 'frog', 'horse', 'ship', 'truck')"
      ]
    },
    {
      "cell_type": "markdown",
      "metadata": {
        "id": "gbg96BPHcuDa"
      },
      "source": [
        "### 3. Menyiapkan Fungsi Pelatihan dan Validasi"
      ]
    },
    {
      "cell_type": "code",
      "execution_count": null,
      "metadata": {
        "id": "S00FLU6EcuDa"
      },
      "outputs": [],
      "source": [
        "# Fungsi untuk melatih model\n",
        "def train_model(model, trainloader, criterion, optimizer, scheduler, epochs=100):\n",
        "    train_losses = [] # List untuk menyimpan loss\n",
        "    train_accuracies = [] # List untuk menyimpan akurasi\n",
        "\n",
        "    # Perulangan untuk setiap epoch\n",
        "    for epoch in range(epochs):\n",
        "        running_loss = 0.0\n",
        "        correct = 0\n",
        "        total = 0\n",
        "\n",
        "        model.train() # Mengatur model ke mode training\n",
        "        # Perulangan untuk setiap batch dalam trainloader\n",
        "        for i, data in enumerate(trainloader, 0):\n",
        "            inputs, labels = data # Mengambil data dan label dari batch\n",
        "            # Memindahkan data dan label ke device (GPU/CPU)\n",
        "            inputs, labels = inputs.to(device), labels.to(device)\n",
        "\n",
        "            optimizer.zero_grad() # Mengatur gradien ke nol sebelum backward pass\n",
        "\n",
        "            # Forward pass\n",
        "            outputs = model(inputs)\n",
        "            loss = criterion(outputs, labels)\n",
        "            loss.backward()\n",
        "            optimizer.step()\n",
        "\n",
        "            running_loss += loss.item()\n",
        "\n",
        "            # Menghitung akurasi\n",
        "            _, predicted = torch.max(outputs.data, 1)\n",
        "            total += labels.size(0)\n",
        "            correct += (predicted == labels).sum().item()\n",
        "\n",
        "        # Menghitung rata-rata loss dan akurasi untuk epoch ini\n",
        "        epoch_loss = running_loss / len(trainloader)\n",
        "        epoch_acc = 100 * correct / total\n",
        "\n",
        "        # Validasi dan penyesuaian learning rate\n",
        "        val_loss, val_acc = evaluate_model(model, testloader, criterion)\n",
        "        scheduler.step(val_loss) # Menyesuaikan learning rate berdasarkan validasi loss\n",
        "\n",
        "        # Menyimpan loss dan akurasi untuk epoch ini\n",
        "        train_losses.append(epoch_loss)\n",
        "        train_accuracies.append(epoch_acc)\n",
        "\n",
        "        print(f'Epoch {epoch+1}, Loss: {epoch_loss:.4f}, Accuracy: {epoch_acc:.2f}%, '\n",
        "              f'Val Loss: {val_loss:.4f}, Val Accuracy: {val_acc:.2f}%')\n",
        "\n",
        "    return train_losses, train_accuracies\n",
        "\n",
        "# Fungsi untuk evaluasi model\n",
        "def evaluate_model(model, dataloader, criterion):\n",
        "    model.eval() # Mengatur model ke mode evaluasi\n",
        "    val_loss = 0.0\n",
        "    correct = 0\n",
        "    total = 0\n",
        "\n",
        "    # Perulangan untuk setiap batch dalam dataloader\n",
        "    with torch.no_grad():\n",
        "        for data in dataloader:\n",
        "            images, labels = data\n",
        "            images, labels = images.to(device), labels.to(device)\n",
        "\n",
        "            outputs = model(images)\n",
        "            loss = criterion(outputs, labels)\n",
        "\n",
        "            val_loss += loss.item()\n",
        "\n",
        "            _, predicted = torch.max(outputs.data, 1)\n",
        "            total += labels.size(0)\n",
        "            correct += (predicted == labels).sum().item()\n",
        "\n",
        "    return val_loss / len(dataloader), 100 * correct / total\n",
        "\n",
        "# Fungsi untuk mendapatkan prediksi lengkap\n",
        "def get_all_predictions(model, dataloader):\n",
        "    model.eval()\n",
        "    all_labels = []\n",
        "    all_predictions = []\n",
        "    all_probabilities = []\n",
        "\n",
        "    # Perulangan untuk setiap batch dalam dataloader\n",
        "    with torch.no_grad():\n",
        "        for data in dataloader:\n",
        "            images, labels = data\n",
        "            images, labels = images.to(device), labels.to(device)\n",
        "\n",
        "            outputs = model(images)\n",
        "            probabilities = F.softmax(outputs, dim=1)\n",
        "\n",
        "            _, predicted = torch.max(outputs.data, 1)\n",
        "\n",
        "            all_labels.extend(labels.cpu().numpy())\n",
        "            all_predictions.extend(predicted.cpu().numpy())\n",
        "            all_probabilities.extend(probabilities.cpu().numpy())\n",
        "\n",
        "    return np.array(all_labels), np.array(all_predictions), np.array(all_probabilities)"
      ]
    },
    {
      "cell_type": "markdown",
      "metadata": {
        "id": "S1FowyencuDb"
      },
      "source": [
        "### 4. Menyiapkan Fungsi Evaluasi"
      ]
    },
    {
      "cell_type": "code",
      "execution_count": null,
      "metadata": {
        "id": "3fc3T8CVcuDb"
      },
      "outputs": [],
      "source": [
        "# Metrik evaluasi yang digunakan antara lain akurasi, presisi, recall, f1-score, dan ROC AUC\n",
        "# Fungsi untuk menghitung metrik evaluasi\n",
        "def evaluate_metrics(y_true, y_pred, y_prob):\n",
        "    accuracy = accuracy_score(y_true, y_pred)\n",
        "    precision = precision_score(y_true, y_pred, average='macro')\n",
        "    recall = recall_score(y_true, y_pred, average='macro')\n",
        "    f1 = f1_score(y_true, y_pred, average='macro')\n",
        "    roc_auc = roc_auc_score(y_true, y_prob, average='macro', multi_class='ovr')\n",
        "\n",
        "    return accuracy, precision, recall, f1, roc_auc"
      ]
    },
    {
      "cell_type": "markdown",
      "metadata": {
        "id": "kqXNclKxcuDb"
      },
      "source": [
        "### 5. Menyiapkan Fungsi Visualisasi"
      ]
    },
    {
      "cell_type": "code",
      "execution_count": null,
      "metadata": {
        "id": "tN72GCjpcuDb"
      },
      "outputs": [],
      "source": [
        "# Fungsi untuk menampilkan plot loss dan akurasi\n",
        "def visualize_results(train_losses, train_accuracies):\n",
        "    plt.figure(figsize=(12, 5))\n",
        "\n",
        "    plt.subplot(1, 2, 1)\n",
        "    plt.plot(train_losses, label='Train Loss')\n",
        "    plt.title('Train Loss vs Epochs')\n",
        "    plt.xlabel('Epochs')\n",
        "    plt.ylabel('Loss')\n",
        "    plt.legend()\n",
        "\n",
        "    plt.subplot(1, 2, 2)\n",
        "    plt.plot(train_accuracies, label='Train Accuracy', color='orange')\n",
        "    plt.title('Train Accuracy vs Epochs')\n",
        "    plt.xlabel('Epochs')\n",
        "    plt.ylabel('Accuracy (%)')\n",
        "    plt.legend()\n",
        "\n",
        "    plt.tight_layout()\n",
        "    plt.show()\n",
        "\n",
        "# Fungsi untuk menampilkan ROC curve\n",
        "def visualize_roc_curve(y_true, y_scores):\n",
        "    fpr, tpr, _ = roc_curve(y_true, y_scores[:, 1])\n",
        "    roc_auc = auc(fpr, tpr)\n",
        "\n",
        "    plt.figure(figsize=(8, 6))\n",
        "    plt.plot(fpr, tpr, label=f'ROC curve (area = {roc_auc:.2f})')\n",
        "    plt.plot([0, 1], [0, 1], 'r--')\n",
        "    plt.xlim([0.0, 1.0])\n",
        "    plt.ylim([0.0, 1.05])\n",
        "    plt.xlabel('False Positive Rate')\n",
        "    plt.ylabel('True Positive Rate')\n",
        "    plt.title('Receiver Operating Characteristic')\n",
        "    plt.legend(loc='lower right')\n",
        "    plt.show()\n",
        "\n",
        "# Fungsi untuk menampilkan confusion matrix\n",
        "def visualize_confusion_matrix(y_true, y_pred):\n",
        "    cm = confusion_matrix(y_true, y_pred)\n",
        "    plt.figure(figsize=(10, 8))\n",
        "    plt.matshow(cm, cmap='Blues')\n",
        "    plt.colorbar()\n",
        "    plt.title('Confusion Matrix')\n",
        "\n",
        "    for i in range(cm.shape[0]):\n",
        "        for j in range(cm.shape[1]):\n",
        "            plt.text(j, i, f'{cm[i, j] / cm.sum() * 100:.1f}%', ha='center', va='bottom', color='lavender' if cm[i, j] > cm.max() / 2 else 'black')\n",
        "\n",
        "    plt.ylabel('True label')\n",
        "    plt.xlabel('Predicted label')\n",
        "    plt.show()\n"
      ]
    },
    {
      "cell_type": "markdown",
      "metadata": {
        "id": "jcWgoo2wv8Vi"
      },
      "source": [
        "## A. MLP CIFAR-10 dengan PyTorch"
      ]
    },
    {
      "cell_type": "markdown",
      "metadata": {
        "id": "juIuOZz7wSxe"
      },
      "source": [
        "### 1. Menyusun Model MLP Sederhana\n"
      ]
    },
    {
      "cell_type": "code",
      "execution_count": null,
      "metadata": {
        "colab": {
          "base_uri": "https://localhost:8080/"
        },
        "id": "p-qwjzaycuDb",
        "outputId": "fc6a79eb-b0b4-4536-f82b-29171f60caf2"
      },
      "outputs": [
        {
          "name": "stdout",
          "output_type": "stream",
          "text": [
            "MLP(\n",
            "  (flatten): Flatten(start_dim=1, end_dim=-1)\n",
            "  (fc1): Linear(in_features=3072, out_features=2048, bias=True)\n",
            "  (bn1): BatchNorm1d(2048, eps=1e-05, momentum=0.1, affine=True, track_running_stats=True)\n",
            "  (dropout1): Dropout(p=0.5, inplace=False)\n",
            "  (fc2): Linear(in_features=2048, out_features=1024, bias=True)\n",
            "  (bn2): BatchNorm1d(1024, eps=1e-05, momentum=0.1, affine=True, track_running_stats=True)\n",
            "  (dropout2): Dropout(p=0.5, inplace=False)\n",
            "  (fc3): Linear(in_features=1024, out_features=512, bias=True)\n",
            "  (bn3): BatchNorm1d(512, eps=1e-05, momentum=0.1, affine=True, track_running_stats=True)\n",
            "  (dropout3): Dropout(p=0.5, inplace=False)\n",
            "  (fc4): Linear(in_features=512, out_features=256, bias=True)\n",
            "  (bn4): BatchNorm1d(256, eps=1e-05, momentum=0.1, affine=True, track_running_stats=True)\n",
            "  (dropout4): Dropout(p=0.25, inplace=False)\n",
            "  (fc5): Linear(in_features=256, out_features=10, bias=True)\n",
            ")\n"
          ]
        }
      ],
      "source": [
        "# Mendefinisikan model MLP\n",
        "class MLP(nn.Module):\n",
        "    def __init__(self):\n",
        "        super(MLP, self).__init__()\n",
        "        # Input size: 32x32x3 = 3072\n",
        "        self.flatten = nn.Flatten()\n",
        "\n",
        "        # Fully connected layers\n",
        "        self.fc1 = nn.Linear(32 * 32 * 3, 2048)\n",
        "        self.bn1 = nn.BatchNorm1d(2048)\n",
        "        self.dropout1 = nn.Dropout(0.5)\n",
        "\n",
        "        self.fc2 = nn.Linear(2048, 1024)\n",
        "        self.bn2 = nn.BatchNorm1d(1024)\n",
        "        self.dropout2 = nn.Dropout(0.5)\n",
        "\n",
        "        self.fc3 = nn.Linear(1024, 512)\n",
        "        self.bn3 = nn.BatchNorm1d(512)\n",
        "        self.dropout3 = nn.Dropout(0.5)\n",
        "\n",
        "        self.fc4 = nn.Linear(512, 256)\n",
        "        self.bn4 = nn.BatchNorm1d(256)\n",
        "        self.dropout4 = nn.Dropout(0.25)\n",
        "\n",
        "        self.fc5 = nn.Linear(256, len(classes)) # Output size: 10 (jumlah kelas CIFAR-10)\n",
        "\n",
        "    # Fungsi forward untuk melakukan forward pass\n",
        "    def forward(self, x):\n",
        "        x = self.flatten(x)\n",
        "\n",
        "        x = F.relu(self.bn1(self.fc1(x)))\n",
        "        x = self.dropout1(x)\n",
        "\n",
        "        x = F.relu(self.bn2(self.fc2(x)))\n",
        "        x = self.dropout2(x)\n",
        "\n",
        "        x = F.relu(self.bn3(self.fc3(x)))\n",
        "        x = self.dropout3(x)\n",
        "\n",
        "        x = F.relu(self.bn4(self.fc4(x)))\n",
        "        x = self.dropout4(x)\n",
        "\n",
        "        x = self.fc5(x)\n",
        "\n",
        "        return x\n",
        "\n",
        "# Inisialisasi model\n",
        "model_mlp = MLP().to(device)\n",
        "print(model_mlp)"
      ]
    },
    {
      "cell_type": "markdown",
      "metadata": {
        "id": "xKxY-v1UcuDc"
      },
      "source": [
        "### 2. Menyiapkan Optimizer dan Loss Function"
      ]
    },
    {
      "cell_type": "code",
      "execution_count": null,
      "metadata": {
        "colab": {
          "base_uri": "https://localhost:8080/"
        },
        "id": "tEiOYmmXcuDc",
        "outputId": "43a48079-c267-42c2-fa64-15aa09f6ec6b"
      },
      "outputs": [
        {
          "name": "stderr",
          "output_type": "stream",
          "text": [
            "/usr/local/lib/python3.11/dist-packages/torch/optim/lr_scheduler.py:62: UserWarning: The verbose parameter is deprecated. Please use get_last_lr() to access the learning rate.\n",
            "  warnings.warn(\n"
          ]
        }
      ],
      "source": [
        "# Inisialisasi loss function dan optimizer\n",
        "criterion = nn.CrossEntropyLoss()\n",
        "optimizer = optim.Adam(model_mlp.parameters(), lr=0.001)\n",
        "scheduler = optim.lr_scheduler.ReduceLROnPlateau(optimizer, 'min', patience=5, factor=0.1, verbose=True)"
      ]
    },
    {
      "cell_type": "markdown",
      "metadata": {
        "id": "Tjndrp73wgkY"
      },
      "source": [
        "### 3. Melatih Model"
      ]
    },
    {
      "cell_type": "code",
      "execution_count": null,
      "metadata": {
        "colab": {
          "background_save": true,
          "base_uri": "https://localhost:8080/"
        },
        "id": "52vmCCgAcuDc",
        "outputId": "910f7f49-7a8c-4b85-e778-9e2eb93c9676"
      },
      "outputs": [
        {
          "name": "stdout",
          "output_type": "stream",
          "text": [
            "Melatih model MLP...\n",
            "Epoch 1, Loss: 1.9261, Accuracy: 29.29%, Val Loss: 1.7203, Val Accuracy: 37.55%\n",
            "Epoch 2, Loss: 1.7593, Accuracy: 36.26%, Val Loss: 1.7109, Val Accuracy: 39.61%\n",
            "Epoch 3, Loss: 1.6991, Accuracy: 38.52%, Val Loss: 1.6152, Val Accuracy: 42.33%\n",
            "Epoch 4, Loss: 1.6573, Accuracy: 39.94%, Val Loss: 1.5777, Val Accuracy: 43.55%\n",
            "Epoch 5, Loss: 1.6286, Accuracy: 41.33%, Val Loss: 1.4683, Val Accuracy: 47.54%\n",
            "Epoch 6, Loss: 1.5992, Accuracy: 42.18%, Val Loss: 1.4457, Val Accuracy: 47.98%\n",
            "Epoch 7, Loss: 1.5814, Accuracy: 42.74%, Val Loss: 1.4494, Val Accuracy: 48.62%\n",
            "Epoch 8, Loss: 1.5679, Accuracy: 43.51%, Val Loss: 1.4466, Val Accuracy: 47.85%\n",
            "Epoch 9, Loss: 1.5513, Accuracy: 44.28%, Val Loss: 1.4092, Val Accuracy: 49.73%\n",
            "Epoch 10, Loss: 1.5348, Accuracy: 44.88%, Val Loss: 1.4690, Val Accuracy: 47.17%\n",
            "Epoch 11, Loss: 1.5261, Accuracy: 45.26%, Val Loss: 1.3667, Val Accuracy: 50.86%\n",
            "Epoch 12, Loss: 1.5162, Accuracy: 45.42%, Val Loss: 1.3795, Val Accuracy: 50.25%\n",
            "Epoch 13, Loss: 1.5018, Accuracy: 45.94%, Val Loss: 1.3549, Val Accuracy: 51.04%\n",
            "Epoch 14, Loss: 1.4890, Accuracy: 46.32%, Val Loss: 1.3571, Val Accuracy: 51.35%\n",
            "Epoch 15, Loss: 1.4811, Accuracy: 46.34%, Val Loss: 1.3518, Val Accuracy: 50.94%\n",
            "Epoch 16, Loss: 1.4735, Accuracy: 47.14%, Val Loss: 1.3141, Val Accuracy: 52.22%\n",
            "Epoch 17, Loss: 1.4654, Accuracy: 47.32%, Val Loss: 1.3260, Val Accuracy: 52.15%\n",
            "Epoch 18, Loss: 1.4532, Accuracy: 47.73%, Val Loss: 1.3127, Val Accuracy: 52.79%\n",
            "Epoch 19, Loss: 1.4450, Accuracy: 48.25%, Val Loss: 1.3127, Val Accuracy: 52.53%\n",
            "Epoch 20, Loss: 1.4405, Accuracy: 48.23%, Val Loss: 1.3032, Val Accuracy: 53.05%\n",
            "Epoch 21, Loss: 1.4368, Accuracy: 48.36%, Val Loss: 1.3176, Val Accuracy: 52.19%\n",
            "Epoch 22, Loss: 1.4277, Accuracy: 48.57%, Val Loss: 1.2912, Val Accuracy: 54.04%\n",
            "Epoch 23, Loss: 1.4257, Accuracy: 48.58%, Val Loss: 1.2740, Val Accuracy: 54.18%\n",
            "Epoch 24, Loss: 1.4157, Accuracy: 48.76%, Val Loss: 1.2676, Val Accuracy: 55.06%\n",
            "Epoch 25, Loss: 1.4102, Accuracy: 49.39%, Val Loss: 1.2474, Val Accuracy: 55.24%\n",
            "Epoch 26, Loss: 1.4078, Accuracy: 49.52%, Val Loss: 1.2589, Val Accuracy: 54.78%\n",
            "Epoch 27, Loss: 1.4016, Accuracy: 49.67%, Val Loss: 1.2653, Val Accuracy: 54.89%\n",
            "Epoch 28, Loss: 1.3944, Accuracy: 50.25%, Val Loss: 1.2495, Val Accuracy: 55.22%\n",
            "Epoch 29, Loss: 1.3869, Accuracy: 50.15%, Val Loss: 1.2187, Val Accuracy: 56.11%\n",
            "Epoch 30, Loss: 1.3858, Accuracy: 50.27%, Val Loss: 1.2370, Val Accuracy: 55.85%\n",
            "Epoch 31, Loss: 1.3766, Accuracy: 50.62%, Val Loss: 1.2124, Val Accuracy: 56.44%\n",
            "Epoch 32, Loss: 1.3743, Accuracy: 50.53%, Val Loss: 1.2248, Val Accuracy: 56.33%\n",
            "Epoch 33, Loss: 1.3684, Accuracy: 50.96%, Val Loss: 1.2379, Val Accuracy: 55.75%\n",
            "Epoch 34, Loss: 1.3653, Accuracy: 51.11%, Val Loss: 1.2371, Val Accuracy: 55.83%\n",
            "Epoch 35, Loss: 1.3629, Accuracy: 50.96%, Val Loss: 1.2163, Val Accuracy: 56.58%\n",
            "Epoch 36, Loss: 1.3573, Accuracy: 51.39%, Val Loss: 1.2125, Val Accuracy: 56.39%\n",
            "Epoch 37, Loss: 1.3485, Accuracy: 51.77%, Val Loss: 1.1980, Val Accuracy: 56.84%\n",
            "Epoch 38, Loss: 1.3474, Accuracy: 51.87%, Val Loss: 1.2095, Val Accuracy: 56.71%\n",
            "Epoch 39, Loss: 1.3424, Accuracy: 51.78%, Val Loss: 1.1920, Val Accuracy: 57.00%\n",
            "Epoch 40, Loss: 1.3406, Accuracy: 51.73%, Val Loss: 1.1902, Val Accuracy: 57.29%\n",
            "Epoch 41, Loss: 1.3350, Accuracy: 52.19%, Val Loss: 1.2002, Val Accuracy: 57.01%\n",
            "Epoch 42, Loss: 1.3373, Accuracy: 52.25%, Val Loss: 1.1853, Val Accuracy: 57.64%\n",
            "Epoch 43, Loss: 1.3359, Accuracy: 52.24%, Val Loss: 1.1876, Val Accuracy: 57.23%\n",
            "Epoch 44, Loss: 1.3276, Accuracy: 52.51%, Val Loss: 1.2123, Val Accuracy: 56.11%\n",
            "Epoch 45, Loss: 1.3267, Accuracy: 52.40%, Val Loss: 1.1761, Val Accuracy: 57.42%\n",
            "Epoch 46, Loss: 1.3238, Accuracy: 52.67%, Val Loss: 1.1811, Val Accuracy: 57.98%\n",
            "Epoch 47, Loss: 1.3178, Accuracy: 52.65%, Val Loss: 1.1672, Val Accuracy: 58.84%\n",
            "Epoch 48, Loss: 1.3093, Accuracy: 53.25%, Val Loss: 1.1649, Val Accuracy: 58.49%\n",
            "Epoch 49, Loss: 1.3083, Accuracy: 53.02%, Val Loss: 1.1663, Val Accuracy: 58.13%\n",
            "Epoch 50, Loss: 1.3051, Accuracy: 53.41%, Val Loss: 1.1673, Val Accuracy: 58.29%\n",
            "Epoch 51, Loss: 1.3039, Accuracy: 53.35%, Val Loss: 1.1612, Val Accuracy: 58.62%\n",
            "Epoch 52, Loss: 1.2975, Accuracy: 53.45%, Val Loss: 1.1520, Val Accuracy: 58.80%\n",
            "Epoch 53, Loss: 1.2909, Accuracy: 53.73%, Val Loss: 1.1490, Val Accuracy: 58.89%\n",
            "Epoch 54, Loss: 1.2942, Accuracy: 53.67%, Val Loss: 1.1510, Val Accuracy: 58.85%\n",
            "Epoch 55, Loss: 1.2878, Accuracy: 53.70%, Val Loss: 1.1557, Val Accuracy: 58.74%\n",
            "Epoch 56, Loss: 1.2940, Accuracy: 53.55%, Val Loss: 1.1526, Val Accuracy: 59.21%\n",
            "Epoch 57, Loss: 1.2843, Accuracy: 54.22%, Val Loss: 1.1603, Val Accuracy: 58.50%\n",
            "Epoch 58, Loss: 1.2850, Accuracy: 54.16%, Val Loss: 1.1430, Val Accuracy: 59.15%\n",
            "Epoch 59, Loss: 1.2842, Accuracy: 53.96%, Val Loss: 1.1443, Val Accuracy: 59.15%\n",
            "Epoch 60, Loss: 1.2740, Accuracy: 54.51%, Val Loss: 1.1330, Val Accuracy: 59.46%\n",
            "Epoch 61, Loss: 1.2808, Accuracy: 54.29%, Val Loss: 1.1330, Val Accuracy: 59.68%\n",
            "Epoch 62, Loss: 1.2766, Accuracy: 54.45%, Val Loss: 1.1287, Val Accuracy: 59.88%\n",
            "Epoch 63, Loss: 1.2715, Accuracy: 54.30%, Val Loss: 1.1240, Val Accuracy: 60.35%\n",
            "Epoch 64, Loss: 1.2722, Accuracy: 54.40%, Val Loss: 1.1294, Val Accuracy: 59.97%\n",
            "Epoch 65, Loss: 1.2699, Accuracy: 54.62%, Val Loss: 1.1309, Val Accuracy: 59.83%\n",
            "Epoch 66, Loss: 1.2650, Accuracy: 54.77%, Val Loss: 1.1205, Val Accuracy: 59.92%\n",
            "Epoch 67, Loss: 1.2609, Accuracy: 55.12%, Val Loss: 1.1166, Val Accuracy: 60.33%\n",
            "Epoch 68, Loss: 1.2593, Accuracy: 55.06%, Val Loss: 1.1260, Val Accuracy: 59.87%\n",
            "Epoch 69, Loss: 1.2598, Accuracy: 55.05%, Val Loss: 1.1284, Val Accuracy: 59.94%\n",
            "Epoch 70, Loss: 1.2563, Accuracy: 55.02%, Val Loss: 1.1165, Val Accuracy: 60.44%\n",
            "Epoch 71, Loss: 1.2530, Accuracy: 55.30%, Val Loss: 1.1054, Val Accuracy: 60.62%\n",
            "Epoch 72, Loss: 1.2478, Accuracy: 55.18%, Val Loss: 1.1055, Val Accuracy: 60.86%\n"
          ]
        }
      ],
      "source": [
        "# Melatih model MLP dengan data augmentation\n",
        "print(\"Melatih model MLP...\")\n",
        "train_losses, train_accuracies, val_losses, val_accuracies = train_model(model_mlp, trainloader, criterion, optimizer, scheduler, epochs=150)\n",
        "\n",
        "# Mengevaluasi model\n",
        "print(\"Evaluasi akhir model...\")\n",
        "test_loss, test_accuracy = evaluate_model(model_mlp, testloader, criterion)\n",
        "print(f\"Final Test Loss: {test_loss:.4f}, Test Accuracy: {test_accuracy:.2f}%\")"
      ]
    },
    {
      "cell_type": "markdown",
      "metadata": {
        "id": "G9DGgrWtcuDc"
      },
      "source": [
        "### 4. Mengevaluasi Model dengan Menghitung Akurasi, Presisi, Recall, F1Squared, ROC, dan AUC-ROC"
      ]
    },
    {
      "cell_type": "code",
      "execution_count": null,
      "metadata": {
        "id": "tO3eCLcHcuDc"
      },
      "outputs": [],
      "source": [
        "# Mendapatkan semua prediksi untuk evaluasi metrik\n",
        "y_true, y_pred, y_pred_proba = get_all_predictions(model_mlp, testloader)\n",
        "\n",
        "# Menghitung metrik evaluasi\n",
        "accuracy, precision, recall, f1, roc_auc = evaluate_metrics(y_true, y_pred, y_pred_proba)\n",
        "\n",
        "# Output metrik evaluasi\n",
        "print(\"\\nMetrik Evaluasi MLP Model dengan PyTorch:\")\n",
        "print(f\"Accuracy: {test_accuracy/100:.4f}\")\n",
        "print(f\"Precision: {precision:.4f}\")\n",
        "print(f\"Recall: {recall:.4f}\")\n",
        "print(f\"F1 Score: {f1:.4f}\")\n",
        "print(f\"ROC AUC: {roc_auc:.4f}\")\n",
        "\n"
      ]
    },
    {
      "cell_type": "markdown",
      "metadata": {
        "id": "l12Xcb6TcuDc"
      },
      "source": [
        "### 5. Memvisualisasikan Prediksi dari model yang telah dilatih"
      ]
    },
    {
      "cell_type": "code",
      "execution_count": null,
      "metadata": {
        "id": "U1Rc--ZRcuDc"
      },
      "outputs": [],
      "source": [
        "# Plot training history\n",
        "visualize_results(train_losses, train_accuracies)\n",
        "\n",
        "# Plot ROC curve (one vs rest untuk multi-kelas)\n",
        "visualize_roc_curve(y_true, y_pred_proba)\n",
        "\n",
        "# Plot confusion matrix\n",
        "visualize_confusion_matrix(y_true, y_pred)"
      ]
    },
    {
      "cell_type": "markdown",
      "metadata": {
        "id": "9MnGlw9dcuDc"
      },
      "source": [
        "### 6. Menyimpan Model"
      ]
    },
    {
      "cell_type": "code",
      "execution_count": null,
      "metadata": {
        "id": "no2kXmWBcuDc"
      },
      "outputs": [],
      "source": [
        "# Menyimpan model\n",
        "torch.save(model_mlp.state_dict(), 'model_pytorch_cifar-10_mlp.pth')\n",
        "print(\"Model disimpan sebagai 'model_pytorch_cifar-10_mlp.pth'\")"
      ]
    },
    {
      "cell_type": "markdown",
      "metadata": {
        "id": "izEg4y-KcuDd"
      },
      "source": [
        "## B. CNN CIFAR-10 dengan PyTorch"
      ]
    },
    {
      "cell_type": "markdown",
      "metadata": {
        "id": "U-yrq5DEcuDd"
      },
      "source": [
        "### 1. Menyusun Model CNN Sederhana\n"
      ]
    },
    {
      "cell_type": "code",
      "execution_count": null,
      "metadata": {
        "id": "myaVvlrscuDd"
      },
      "outputs": [],
      "source": [
        "# Mendefinisikan model CNN\n",
        "class CNN(nn.Module):\n",
        "    def __init__(self):\n",
        "        super(CNN, self).__init__()\n",
        "        # Blok konvolusi 1\n",
        "        self.conv1 = nn.Conv2d(3, 32, kernel_size=3, padding=1)\n",
        "        self.bn1 = nn.BatchNorm2d(32)\n",
        "        self.conv2 = nn.Conv2d(32, 32, kernel_size=3, padding=1)\n",
        "        self.bn2 = nn.BatchNorm2d(32)\n",
        "        self.pool1 = nn.MaxPool2d(kernel_size=2, stride=2)\n",
        "        self.dropout1 = nn.Dropout(0.25)\n",
        "\n",
        "        # Blok konvolusi 2\n",
        "        self.conv3 = nn.Conv2d(32, 64, kernel_size=3, padding=1)\n",
        "        self.bn3 = nn.BatchNorm2d(64)\n",
        "        self.conv4 = nn.Conv2d(64, 64, kernel_size=3, padding=1)\n",
        "        self.bn4 = nn.BatchNorm2d(64)\n",
        "        self.pool2 = nn.MaxPool2d(kernel_size=2, stride=2)\n",
        "        self.dropout2 = nn.Dropout(0.25)\n",
        "\n",
        "        # Blok konvolusi 3\n",
        "        self.conv5 = nn.Conv2d(64, 128, kernel_size=3, padding=1)\n",
        "        self.bn5 = nn.BatchNorm2d(128)\n",
        "        self.conv6 = nn.Conv2d(128, 128, kernel_size=3, padding=1)\n",
        "        self.bn6 = nn.BatchNorm2d(128)\n",
        "        self.pool3 = nn.MaxPool2d(kernel_size=2, stride=2)\n",
        "        self.dropout3 = nn.Dropout(0.25)\n",
        "\n",
        "        # Fully connected layers\n",
        "        self.fc1 = nn.Linear(128 * 4 * 4, 512)\n",
        "        self.bn7 = nn.BatchNorm1d(512)\n",
        "        self.dropout4 = nn.Dropout(0.5)\n",
        "        self.fc2 = nn.Linear(512, len(classes))\n",
        "\n",
        "    def forward(self, x):\n",
        "        # Blok 1\n",
        "        x = F.relu(self.bn1(self.conv1(x)))\n",
        "        x = F.relu(self.bn2(self.conv2(x)))\n",
        "        x = self.pool1(x)\n",
        "        x = self.dropout1(x)\n",
        "\n",
        "        # Blok 2\n",
        "        x = F.relu(self.bn3(self.conv3(x)))\n",
        "        x = F.relu(self.bn4(self.conv4(x)))\n",
        "        x = self.pool2(x)\n",
        "        x = self.dropout2(x)\n",
        "\n",
        "        # Blok 3\n",
        "        x = F.relu(self.bn5(self.conv5(x)))\n",
        "        x = F.relu(self.bn6(self.conv6(x)))\n",
        "        x = self.pool3(x)\n",
        "        x = self.dropout3(x)\n",
        "\n",
        "        # Flatten\n",
        "        x = x.view(-1, 128 * 4 * 4)\n",
        "\n",
        "        # Fully connected\n",
        "        x = F.relu(self.bn7(self.fc1(x)))\n",
        "        x = self.dropout4(x)\n",
        "        x = self.fc2(x)\n",
        "\n",
        "        return x\n",
        "\n",
        "model_cnn = CNN().to(device)\n",
        "print(model_cnn)"
      ]
    },
    {
      "cell_type": "markdown",
      "metadata": {
        "id": "YoTfR3HBcuDd"
      },
      "source": [
        "### 2. Menyiapkan Optimizer dan Loss Function"
      ]
    },
    {
      "cell_type": "code",
      "execution_count": null,
      "metadata": {
        "id": "NLTEjCU6cuDd"
      },
      "outputs": [],
      "source": [
        "# Inisialisasi loss function dan optimizer\n",
        "criterion = nn.CrossEntropyLoss()\n",
        "optimizer = optim.Adam(model_cnn.parameters(), lr=0.001)\n",
        "scheduler = optim.lr_scheduler.ReduceLROnPlateau(optimizer, 'min', patience=5, factor=0.1, verbose=True)"
      ]
    },
    {
      "cell_type": "markdown",
      "metadata": {
        "id": "f43WaByDcuDd"
      },
      "source": [
        "### 3. Melatih Model"
      ]
    },
    {
      "cell_type": "code",
      "execution_count": null,
      "metadata": {
        "id": "5q4UhYd5cuDd",
        "outputId": "5c134d05-9e30-45c0-b52c-ea0282b5072d"
      },
      "outputs": [
        {
          "name": "stdout",
          "output_type": "stream",
          "text": [
            "Epoch 1, Loss: 1.9263, Accuracy: 29.05%, Val Loss: 1.6827, Val Accuracy: 39.27%\n"
          ]
        },
        {
          "ename": "KeyboardInterrupt",
          "evalue": "",
          "output_type": "error",
          "traceback": [
            "\u001b[31m---------------------------------------------------------------------------\u001b[39m\n",
            "\u001b[31mKeyboardInterrupt\u001b[39m                         Traceback (most recent call last)\n",
            "\u001b[36mCell\u001b[39m\u001b[36m \u001b[39m\u001b[32mIn[11]\u001b[39m\u001b[32m, line 75\u001b[39m\n",
            "\u001b[32m     72\u001b[39m     \u001b[38;5;28;01mreturn\u001b[39;00m val_loss / \u001b[38;5;28mlen\u001b[39m(dataloader), \u001b[32m100\u001b[39m * correct / total\n",
            "\u001b[32m     74\u001b[39m \u001b[38;5;66;03m# Melatih model\u001b[39;00m\n",
            "\u001b[32m---> \u001b[39m\u001b[32m75\u001b[39m train_losses, train_accuracies, val_losses, val_accuracies = \u001b[43mtrain_model\u001b[49m\u001b[43m(\u001b[49m\u001b[43mmodel\u001b[49m\u001b[43m,\u001b[49m\u001b[43m \u001b[49m\u001b[43mtrainloader\u001b[49m\u001b[43m,\u001b[49m\u001b[43m \u001b[49m\u001b[43mcriterion\u001b[49m\u001b[43m,\u001b[49m\u001b[43m \u001b[49m\u001b[43moptimizer\u001b[49m\u001b[43m,\u001b[49m\u001b[43m \u001b[49m\u001b[43mepochs\u001b[49m\u001b[43m=\u001b[49m\u001b[32;43m150\u001b[39;49m\u001b[43m)\u001b[49m\n",
            "\n",
            "\u001b[36mCell\u001b[39m\u001b[36m \u001b[39m\u001b[32mIn[11]\u001b[39m\u001b[32m, line 21\u001b[39m, in \u001b[36mtrain_model\u001b[39m\u001b[34m(model, trainloader, criterion, optimizer, epochs)\u001b[39m\n",
            "\u001b[32m     19\u001b[39m outputs = model(inputs)\n",
            "\u001b[32m     20\u001b[39m loss = criterion(outputs, labels)\n",
            "\u001b[32m---> \u001b[39m\u001b[32m21\u001b[39m \u001b[43mloss\u001b[49m\u001b[43m.\u001b[49m\u001b[43mbackward\u001b[49m\u001b[43m(\u001b[49m\u001b[43m)\u001b[49m\n",
            "\u001b[32m     22\u001b[39m optimizer.step()\n",
            "\u001b[32m     24\u001b[39m running_loss += loss.item()\n",
            "\n",
            "\u001b[36mFile \u001b[39m\u001b[32mc:\\Users\\User\\AppData\\Local\\Programs\\Python\\Python311\\Lib\\site-packages\\torch\\_tensor.py:525\u001b[39m, in \u001b[36mTensor.backward\u001b[39m\u001b[34m(self, gradient, retain_graph, create_graph, inputs)\u001b[39m\n",
            "\u001b[32m    515\u001b[39m \u001b[38;5;28;01mif\u001b[39;00m has_torch_function_unary(\u001b[38;5;28mself\u001b[39m):\n",
            "\u001b[32m    516\u001b[39m     \u001b[38;5;28;01mreturn\u001b[39;00m handle_torch_function(\n",
            "\u001b[32m    517\u001b[39m         Tensor.backward,\n",
            "\u001b[32m    518\u001b[39m         (\u001b[38;5;28mself\u001b[39m,),\n",
            "\u001b[32m   (...)\u001b[39m\u001b[32m    523\u001b[39m         inputs=inputs,\n",
            "\u001b[32m    524\u001b[39m     )\n",
            "\u001b[32m--> \u001b[39m\u001b[32m525\u001b[39m \u001b[43mtorch\u001b[49m\u001b[43m.\u001b[49m\u001b[43mautograd\u001b[49m\u001b[43m.\u001b[49m\u001b[43mbackward\u001b[49m\u001b[43m(\u001b[49m\n",
            "\u001b[32m    526\u001b[39m \u001b[43m    \u001b[49m\u001b[38;5;28;43mself\u001b[39;49m\u001b[43m,\u001b[49m\u001b[43m \u001b[49m\u001b[43mgradient\u001b[49m\u001b[43m,\u001b[49m\u001b[43m \u001b[49m\u001b[43mretain_graph\u001b[49m\u001b[43m,\u001b[49m\u001b[43m \u001b[49m\u001b[43mcreate_graph\u001b[49m\u001b[43m,\u001b[49m\u001b[43m \u001b[49m\u001b[43minputs\u001b[49m\u001b[43m=\u001b[49m\u001b[43minputs\u001b[49m\n",
            "\u001b[32m    527\u001b[39m \u001b[43m\u001b[49m\u001b[43m)\u001b[49m\n",
            "\n",
            "\u001b[36mFile \u001b[39m\u001b[32mc:\\Users\\User\\AppData\\Local\\Programs\\Python\\Python311\\Lib\\site-packages\\torch\\autograd\\__init__.py:267\u001b[39m, in \u001b[36mbackward\u001b[39m\u001b[34m(tensors, grad_tensors, retain_graph, create_graph, grad_variables, inputs)\u001b[39m\n",
            "\u001b[32m    262\u001b[39m     retain_graph = create_graph\n",
            "\u001b[32m    264\u001b[39m \u001b[38;5;66;03m# The reason we repeat the same comment below is that\u001b[39;00m\n",
            "\u001b[32m    265\u001b[39m \u001b[38;5;66;03m# some Python versions print out the first line of a multi-line function\u001b[39;00m\n",
            "\u001b[32m    266\u001b[39m \u001b[38;5;66;03m# calls in the traceback and some print out the last line\u001b[39;00m\n",
            "\u001b[32m--> \u001b[39m\u001b[32m267\u001b[39m \u001b[43m_engine_run_backward\u001b[49m\u001b[43m(\u001b[49m\n",
            "\u001b[32m    268\u001b[39m \u001b[43m    \u001b[49m\u001b[43mtensors\u001b[49m\u001b[43m,\u001b[49m\n",
            "\u001b[32m    269\u001b[39m \u001b[43m    \u001b[49m\u001b[43mgrad_tensors_\u001b[49m\u001b[43m,\u001b[49m\n",
            "\u001b[32m    270\u001b[39m \u001b[43m    \u001b[49m\u001b[43mretain_graph\u001b[49m\u001b[43m,\u001b[49m\n",
            "\u001b[32m    271\u001b[39m \u001b[43m    \u001b[49m\u001b[43mcreate_graph\u001b[49m\u001b[43m,\u001b[49m\n",
            "\u001b[32m    272\u001b[39m \u001b[43m    \u001b[49m\u001b[43minputs\u001b[49m\u001b[43m,\u001b[49m\n",
            "\u001b[32m    273\u001b[39m \u001b[43m    \u001b[49m\u001b[43mallow_unreachable\u001b[49m\u001b[43m=\u001b[49m\u001b[38;5;28;43;01mTrue\u001b[39;49;00m\u001b[43m,\u001b[49m\n",
            "\u001b[32m    274\u001b[39m \u001b[43m    \u001b[49m\u001b[43maccumulate_grad\u001b[49m\u001b[43m=\u001b[49m\u001b[38;5;28;43;01mTrue\u001b[39;49;00m\u001b[43m,\u001b[49m\n",
            "\u001b[32m    275\u001b[39m \u001b[43m\u001b[49m\u001b[43m)\u001b[49m\n",
            "\n",
            "\u001b[36mFile \u001b[39m\u001b[32mc:\\Users\\User\\AppData\\Local\\Programs\\Python\\Python311\\Lib\\site-packages\\torch\\autograd\\graph.py:744\u001b[39m, in \u001b[36m_engine_run_backward\u001b[39m\u001b[34m(t_outputs, *args, **kwargs)\u001b[39m\n",
            "\u001b[32m    742\u001b[39m     unregister_hooks = _register_logging_hooks_on_whole_graph(t_outputs)\n",
            "\u001b[32m    743\u001b[39m \u001b[38;5;28;01mtry\u001b[39;00m:\n",
            "\u001b[32m--> \u001b[39m\u001b[32m744\u001b[39m     \u001b[38;5;28;01mreturn\u001b[39;00m \u001b[43mVariable\u001b[49m\u001b[43m.\u001b[49m\u001b[43m_execution_engine\u001b[49m\u001b[43m.\u001b[49m\u001b[43mrun_backward\u001b[49m\u001b[43m(\u001b[49m\u001b[43m  \u001b[49m\u001b[38;5;66;43;03m# Calls into the C++ engine to run the backward pass\u001b[39;49;00m\n",
            "\u001b[32m    745\u001b[39m \u001b[43m        \u001b[49m\u001b[43mt_outputs\u001b[49m\u001b[43m,\u001b[49m\u001b[43m \u001b[49m\u001b[43m*\u001b[49m\u001b[43margs\u001b[49m\u001b[43m,\u001b[49m\u001b[43m \u001b[49m\u001b[43m*\u001b[49m\u001b[43m*\u001b[49m\u001b[43mkwargs\u001b[49m\n",
            "\u001b[32m    746\u001b[39m \u001b[43m    \u001b[49m\u001b[43m)\u001b[49m  \u001b[38;5;66;03m# Calls into the C++ engine to run the backward pass\u001b[39;00m\n",
            "\u001b[32m    747\u001b[39m \u001b[38;5;28;01mfinally\u001b[39;00m:\n",
            "\u001b[32m    748\u001b[39m     \u001b[38;5;28;01mif\u001b[39;00m attach_logging_hooks:\n",
            "\n",
            "\u001b[31mKeyboardInterrupt\u001b[39m: "
          ]
        }
      ],
      "source": [
        "# Melatih model\n",
        "print(\"Melatih model CNN...\")\n",
        "train_losses, train_accuracies = train_model(model_cnn, trainloader, criterion, optimizer, scheduler, epochs=100)\n",
        "\n",
        "# Mengevaluasi model\n",
        "print(\"Evaluasi akhir model...\")\n",
        "test_loss, test_accuracy = evaluate_model(model_cnn, testloader, criterion)\n",
        "print(f\"Final Test Loss: {test_loss:.4f}, Test Accuracy: {test_accuracy:.2f}%\")"
      ]
    },
    {
      "cell_type": "markdown",
      "metadata": {
        "id": "jdasPi9tcuDd"
      },
      "source": [
        "### 4. Mengevaluasi Model dengan Menghitung Akurasi, Presisi, Recall, F1Squared, ROC, dan AUC-ROC"
      ]
    },
    {
      "cell_type": "code",
      "execution_count": null,
      "metadata": {
        "id": "fu78ogLTcuDd",
        "outputId": "c67c7fba-5528-4b83-e405-cea2010a36a9"
      },
      "outputs": [
        {
          "name": "stdout",
          "output_type": "stream",
          "text": [
            "Accuracy: 0.7441288090668916\n",
            "Precision: 0.7237694345814063\n",
            "Recall: 0.7441288090668916\n",
            "F1-score: 0.7295863981229429\n"
          ]
        },
        {
          "name": "stderr",
          "output_type": "stream",
          "text": [
            "c:\\Users\\User\\AppData\\Local\\Programs\\Python\\Python311\\Lib\\site-packages\\sklearn\\metrics\\_classification.py:1531: UndefinedMetricWarning: Precision is ill-defined and being set to 0.0 in labels with no predicted samples. Use `zero_division` parameter to control this behavior.\n",
            "  _warn_prf(average, modifier, f\"{metric.capitalize()} is\", len(result))\n"
          ]
        }
      ],
      "source": [
        "# Mendapatkan semua prediksi untuk evaluasi metrik\n",
        "y_true, y_pred, y_pred_proba = get_all_predictions(model_cnn, testloader)\n",
        "\n",
        "# Menghitung metrik evaluasi\n",
        "accuracy, precision, recall, f1, roc_auc = evaluate_metrics(y_true, y_pred, y_pred_proba)\n",
        "\n",
        "# Output metrik evaluasi\n",
        "print(\"\\nMetrik Evaluasi CNN Model dengan PyTorch:\")\n",
        "print(f\"Accuracy: {test_accuracy/100:.4f}\")\n",
        "print(f\"Precision: {precision:.4f}\")\n",
        "print(f\"Recall: {recall:.4f}\")\n",
        "print(f\"F1 Score: {f1:.4f}\")\n",
        "print(f\"ROC AUC: {roc_auc:.4f}\")\n",
        "\n"
      ]
    },
    {
      "cell_type": "markdown",
      "metadata": {
        "id": "2dKHNAnAcuDd"
      },
      "source": [
        "### 5. Memvisualisasikan Prediksi dari model yang telah dilatih"
      ]
    },
    {
      "cell_type": "code",
      "execution_count": null,
      "metadata": {
        "id": "T2SRPuTQcuDd",
        "outputId": "27f74bf3-c259-4708-bbca-761765080af7"
      },
      "outputs": [
        {
          "data": {
            "image/png": "[encoded data removed]",
            "text/plain": [
              "<Figure size 480x480 with 2 Axes>"
            ]
          },
          "metadata": {},
          "output_type": "display_data"
        },
        {
          "ename": "TypeError",
          "evalue": "argument of type 'History' is not iterable",
          "output_type": "error",
          "traceback": [
            "\u001b[31m---------------------------------------------------------------------------\u001b[39m\n",
            "\u001b[31mTypeError\u001b[39m                                 Traceback (most recent call last)\n",
            "\u001b[36mCell\u001b[39m\u001b[36m \u001b[39m\u001b[32mIn[55]\u001b[39m\u001b[32m, line 5\u001b[39m\n",
            "\u001b[32m      2\u001b[39m visualize_results(y_test, y_pred_class)\n",
            "\u001b[32m      4\u001b[39m \u001b[38;5;66;03m# Menampilkan plot hasil training\u001b[39;00m\n",
            "\u001b[32m----> \u001b[39m\u001b[32m5\u001b[39m \u001b[43mvisualize_training\u001b[49m\u001b[43m(\u001b[49m\u001b[43mhistory\u001b[49m\u001b[43m)\u001b[49m\n",
            "\u001b[32m      7\u001b[39m \u001b[38;5;66;03m# Menyimpan model\u001b[39;00m\n",
            "\u001b[32m      8\u001b[39m torch.save(model.state_dict(), \u001b[33m'\u001b[39m\u001b[33mmodel_pytorch_covert.pth\u001b[39m\u001b[33m'\u001b[39m)\n",
            "\n",
            "\u001b[36mCell\u001b[39m\u001b[36m \u001b[39m\u001b[32mIn[53]\u001b[39m\u001b[32m, line 18\u001b[39m, in \u001b[36mvisualize_training\u001b[39m\u001b[34m(history)\u001b[39m\n",
            "\u001b[32m     17\u001b[39m \u001b[38;5;28;01mdef\u001b[39;00m \u001b[34mvisualize_training\u001b[39m(history):\n",
            "\u001b[32m---> \u001b[39m\u001b[32m18\u001b[39m     \u001b[38;5;28;01mif\u001b[39;00m \u001b[33;43m'\u001b[39;49m\u001b[33;43maccuracy\u001b[39;49m\u001b[33;43m'\u001b[39;49m\u001b[43m \u001b[49m\u001b[38;5;129;43;01min\u001b[39;49;00m\u001b[43m \u001b[49m\u001b[43mhistory\u001b[49m:\n",
            "\u001b[32m     19\u001b[39m         plt.plot(history[\u001b[33m'\u001b[39m\u001b[33mval_accuracy\u001b[39m\u001b[33m'\u001b[39m] \u001b[38;5;28;01mif\u001b[39;00m \u001b[33m'\u001b[39m\u001b[33mval_accuracy\u001b[39m\u001b[33m'\u001b[39m \u001b[38;5;129;01min\u001b[39;00m history \u001b[38;5;28;01melse\u001b[39;00m history[\u001b[33m'\u001b[39m\u001b[33maccuracy\u001b[39m\u001b[33m'\u001b[39m])\n",
            "\u001b[32m     20\u001b[39m         plt.plot(history[\u001b[33m'\u001b[39m\u001b[33maccuracy\u001b[39m\u001b[33m'\u001b[39m])\n",
            "\n",
            "\u001b[31mTypeError\u001b[39m: argument of type 'History' is not iterable"
          ]
        }
      ],
      "source": [
        "# Plot training history\n",
        "visualize_results(train_losses, train_accuracies)\n",
        "\n",
        "# Plot ROC curve (one vs rest untuk multi-kelas)\n",
        "visualize_roc_curve(y_true, y_pred_proba)\n",
        "\n",
        "# Plot confusion matrix\n",
        "visualize_confusion_matrix(y_true, y_pred)"
      ]
    },
    {
      "cell_type": "markdown",
      "metadata": {
        "id": "NX6JwlVrcuDe"
      },
      "source": [
        "### 6. Menyimpan Model"
      ]
    },
    {
      "cell_type": "code",
      "execution_count": null,
      "metadata": {
        "id": "ANSsWXnZcuDe"
      },
      "outputs": [],
      "source": [
        "# Menyimpan model\n",
        "torch.save(model_cnn.state_dict(), 'model_pytorch_cifar-10_cnn.pth')\n",
        "print(\"Model disimpan sebagai 'model_pytorch_cifar-10_cnn.pth'\")"
      ]
    },
    {
      "cell_type": "markdown",
      "metadata": {
        "id": "bDTeEKQnwoon"
      },
      "source": [
        "# Deep Learning dengan TensorFlow (MLP dan CNN)"
      ]
    },
    {
      "cell_type": "markdown",
      "metadata": {
        "id": "sEcuhK7kxBfZ"
      },
      "source": [
        "### 1. Import Library yang Dibutuhkan"
      ]
    },
    {
      "cell_type": "code",
      "execution_count": null,
      "metadata": {
        "id": "2BzJ_iBvxCqa"
      },
      "outputs": [],
      "source": [
        "import tensorflow as tf # Library utama untuk deep learning\n",
        "import tensorflow_datasets as tfds # Library untuk dataset\n",
        "import numpy as np # Library untuk manipulasi array\n",
        "from sklearn.metrics import precision_score, recall_score, f1_score, roc_auc_score, roc_curve, auc, confusion_matrix # Library untuk metrik evaluasi\n",
        "import matplotlib.pyplot as plt\n",
        "from tensorflow.keras.layers import Conv2D, MaxPooling2D, Flatten, Dense, Dropout, BatchNormalization # Library untuk layer-layer CNN\n",
        "from tensorflow.keras.models import Sequential # Library untuk model sequential\n",
        "from tensorflow.keras.callbacks import EarlyStopping, ReduceLROnPlateau # Library untuk callbacks\n",
        "from tensorflow.keras.optimizers import Adam # Library untuk optimizers"
      ]
    },
    {
      "cell_type": "markdown",
      "metadata": {
        "id": "7fCQWIqtcuDe"
      },
      "source": [
        "### 2. Mendefinisikan Transformasi Data dan Memuat Dataset CIFAR-10"
      ]
    },
    {
      "cell_type": "code",
      "execution_count": null,
      "metadata": {
        "id": "hsJADxS2cuDf",
        "outputId": "9b815351-58c1-4431-f80b-c2ff38cd1f12"
      },
      "outputs": [
        {
          "name": "stdout",
          "output_type": "stream",
          "text": [
            "Files already downloaded and verified\n",
            "Files already downloaded and verified\n"
          ]
        }
      ],
      "source": [
        "# Memuat dataset CIFAR-10\n",
        "(ds_train, ds_test), ds_info = tfds.load(\n",
        "    'cifar10', # Dataset CIFAR-10\n",
        "    split=['train', 'test'],\n",
        "    shuffle_files=True,\n",
        "    as_supervised=True,\n",
        "    with_info=True,\n",
        ")\n",
        "\n",
        "# Fungsi preprocessing\n",
        "def normalize_img(image, label):\n",
        "    \"\"\"Normalisasi gambar: `uint8` -> `float32`.\"\"\"\n",
        "    return tf.cast(image, tf.float32) / 255., label\n",
        "\n",
        "# Mengatur alur data untuk training\n",
        "BATCH_SIZE = 64\n",
        "ds_train = ds_train.map(normalize_img)\n",
        "ds_train = ds_train.cache()\n",
        "ds_train = ds_train.shuffle(ds_info.splits['train'].num_examples)\n",
        "ds_train = ds_train.batch(BATCH_SIZE)\n",
        "ds_train = ds_train.prefetch(tf.data.experimental.AUTOTUNE)\n",
        "\n",
        "# Mengatur alur data untuk testing\n",
        "ds_test = ds_test.map(normalize_img)\n",
        "ds_test = ds_test.batch(BATCH_SIZE)\n",
        "ds_test = ds_test.prefetch(tf.data.experimental.AUTOTUNE)"
      ]
    },
    {
      "cell_type": "markdown",
      "metadata": {
        "id": "_d0eMhoAcuDf"
      },
      "source": [
        "### 5. Menyiapkan Fungsi Evaluasi"
      ]
    },
    {
      "cell_type": "code",
      "execution_count": null,
      "metadata": {
        "id": "aRy0rIrAcuDf"
      },
      "outputs": [],
      "source": [
        "def evaluate_metrics(y_true, y_pred, y_prob):\n",
        "    y_true_one_hot = tf.keras.utils.to_categorical(y_true, num_classes=10)\n",
        "\n",
        "    # Menghitung metrik evaluasi\n",
        "    precision = precision_score(y_true, y_pred, average='macro')\n",
        "    recall = recall_score(y_true, y_pred, average='macro')\n",
        "    f1 = f1_score(y_true, y_pred, average='macro')\n",
        "    roc_auc = roc_auc_score(y_true_one_hot, y_prob, average='macro', multi_class='ovr')\n",
        "\n",
        "    return precision, recall, f1, roc_auc"
      ]
    },
    {
      "cell_type": "markdown",
      "metadata": {
        "id": "nekYVpSEcuDf"
      },
      "source": [
        "### 6. Menyiapkan Fungsi Visualisasi"
      ]
    },
    {
      "cell_type": "code",
      "execution_count": null,
      "metadata": {
        "id": "Xcw3LC4xcuDf"
      },
      "outputs": [],
      "source": [
        "def visualize_results(history):\n",
        "    # Plot training history\n",
        "    plt.figure(figsize=(12, 4))\n",
        "    plt.subplot(1, 2, 1)\n",
        "    plt.plot(history.history['accuracy'], label='Train Accuracy')\n",
        "    plt.plot(history.history['val_accuracy'], label='Validation Accuracy')\n",
        "    plt.xlabel('Epoch')\n",
        "    plt.ylabel('Accuracy')\n",
        "    plt.legend()\n",
        "\n",
        "    plt.subplot(1, 2, 2)\n",
        "    plt.plot(history.history['loss'], label='Train Loss')\n",
        "    plt.plot(history.history['val_loss'], label='Validation Loss')\n",
        "    plt.xlabel('Epoch')\n",
        "    plt.ylabel('Loss')\n",
        "    plt.legend()\n",
        "    plt.tight_layout()\n",
        "    plt.show()\n",
        "\n",
        "def visualize_roc_curve(y_true, y_scores):\n",
        "    fpr, tpr, _ = roc_curve(y_true, y_scores[:, 1])\n",
        "    roc_auc = auc(fpr, tpr)\n",
        "\n",
        "    plt.figure(figsize=(8, 6))\n",
        "    plt.plot(fpr, tpr, label=f'ROC curve (area = {roc_auc:.2f})')\n",
        "    plt.plot([0, 1], [0, 1], 'r--')\n",
        "    plt.xlim([0.0, 1.0])\n",
        "    plt.ylim([0.0, 1.05])\n",
        "    plt.xlabel('False Positive Rate')\n",
        "    plt.ylabel('True Positive Rate')\n",
        "    plt.title('Receiver Operating Characteristic')\n",
        "    plt.legend(loc='lower right')\n",
        "    plt.show()\n",
        "\n",
        "def visualize_confusion_matrix(y_true, y_pred):\n",
        "    cm = confusion_matrix(y_true, y_pred)\n",
        "    plt.figure(figsize=(10, 8))\n",
        "    plt.matshow(cm, cmap='Blues')\n",
        "    plt.colorbar()\n",
        "    plt.title('Confusion Matrix')\n",
        "\n",
        "    for i in range(cm.shape[0]):\n",
        "        for j in range(cm.shape[1]):\n",
        "            plt.text(j, i, f'{cm[i, j] / cm.sum() * 100:.1f}%', ha='center', va='bottom', color='lavender' if cm[i, j] > cm.max() / 2 else 'black')\n",
        "\n",
        "    plt.ylabel('True label')\n",
        "    plt.xlabel('Predicted label')\n",
        "    plt.show()\n"
      ]
    },
    {
      "cell_type": "markdown",
      "metadata": {
        "id": "QVnYymVccuDf"
      },
      "source": [
        "## A. MLP CIFAR-10 Dengan Tensorflow"
      ]
    },
    {
      "cell_type": "markdown",
      "metadata": {
        "id": "ZgRBaf-exFzO"
      },
      "source": [
        "### 1. Penyusunan Model Neural Network\n"
      ]
    },
    {
      "cell_type": "code",
      "execution_count": null,
      "metadata": {
        "id": "yYBRoCsdcuDf"
      },
      "outputs": [],
      "source": [
        "# Membuat model MLP\n",
        "def create_mlp_model():\n",
        "    model = Sequential([\n",
        "        # Flattening input gambar 32x32x3 menjadi 3072 fitur\n",
        "        Flatten(input_shape=(32, 32, 3)),\n",
        "\n",
        "        # Layer hidden 1\n",
        "        Dense(2048, activation='relu'),\n",
        "        BatchNormalization(),\n",
        "        Dropout(0.5),\n",
        "\n",
        "        # Layer hidden 2\n",
        "        Dense(1024, activation='relu'),\n",
        "        BatchNormalization(),\n",
        "        Dropout(0.5),\n",
        "\n",
        "        # Layer hidden 3\n",
        "        Dense(512, activation='relu'),\n",
        "        BatchNormalization(),\n",
        "        Dropout(0.5),\n",
        "\n",
        "        # Layer hidden 4\n",
        "        Dense(256, activation='relu'),\n",
        "        BatchNormalization(),\n",
        "        Dropout(0.25),\n",
        "\n",
        "        # Layer output\n",
        "        Dense(10, activation='softmax')  # 10 kelas untuk CIFAR-10\n",
        "    ])\n",
        "\n",
        "    return model\n",
        "\n",
        "# Inisialisasi model\n",
        "mlp_model = create_mlp_model()"
      ]
    },
    {
      "cell_type": "markdown",
      "metadata": {
        "id": "gNiS9Tt2xK9U"
      },
      "source": [
        "### 2. Kompilasi Model"
      ]
    },
    {
      "cell_type": "code",
      "execution_count": null,
      "metadata": {
        "id": "J3DwIbQXcuDf"
      },
      "outputs": [],
      "source": [
        "# Kompilasi model\n",
        "mlp_model.compile(\n",
        "    optimizer=Adam(learning_rate=0.001),\n",
        "    loss='sparse_categorical_crossentropy',\n",
        "    metrics=['accuracy']\n",
        ")"
      ]
    },
    {
      "cell_type": "markdown",
      "metadata": {
        "id": "pFkCD0eMxWZN"
      },
      "source": [
        "### 3. Pelatihan Model"
      ]
    },
    {
      "cell_type": "code",
      "execution_count": null,
      "metadata": {
        "id": "CWlkPAj2cuDg",
        "outputId": "827b36fd-6d28-468d-a19e-e77a7c536f51"
      },
      "outputs": [
        {
          "name": "stdout",
          "output_type": "stream",
          "text": [
            "Epoch 1/10\n",
            "\u001b[1m14526/14526\u001b[0m \u001b[32m━━━━━━━━━━━━━━━━━━━━\u001b[0m\u001b[37m\u001b[0m \u001b[1m46s\u001b[0m 3ms/step - accuracy: 0.7491 - loss: 0.5954 - val_accuracy: 0.8141 - val_loss: 0.4409\n",
            "Epoch 2/10\n",
            "\u001b[1m14526/14526\u001b[0m \u001b[32m━━━━━━━━━━━━━━━━━━━━\u001b[0m\u001b[37m\u001b[0m \u001b[1m43s\u001b[0m 3ms/step - accuracy: 0.8308 - loss: 0.4033 - val_accuracy: 0.8495 - val_loss: 0.3630\n",
            "Epoch 3/10\n",
            "\u001b[1m14526/14526\u001b[0m \u001b[32m━━━━━━━━━━━━━━━━━━━━\u001b[0m\u001b[37m\u001b[0m \u001b[1m43s\u001b[0m 3ms/step - accuracy: 0.8550 - loss: 0.3497 - val_accuracy: 0.8611 - val_loss: 0.3391\n",
            "Epoch 4/10\n",
            "\u001b[1m14526/14526\u001b[0m \u001b[32m━━━━━━━━━━━━━━━━━━━━\u001b[0m\u001b[37m\u001b[0m \u001b[1m43s\u001b[0m 3ms/step - accuracy: 0.8702 - loss: 0.3163 - val_accuracy: 0.8763 - val_loss: 0.3039\n",
            "Epoch 5/10\n",
            "\u001b[1m14526/14526\u001b[0m \u001b[32m━━━━━━━━━━━━━━━━━━━━\u001b[0m\u001b[37m\u001b[0m \u001b[1m46s\u001b[0m 3ms/step - accuracy: 0.8800 - loss: 0.2946 - val_accuracy: 0.8848 - val_loss: 0.2823\n",
            "Epoch 6/10\n",
            "\u001b[1m14526/14526\u001b[0m \u001b[32m━━━━━━━━━━━━━━━━━━━━\u001b[0m\u001b[37m\u001b[0m \u001b[1m47s\u001b[0m 3ms/step - accuracy: 0.8858 - loss: 0.2803 - val_accuracy: 0.8824 - val_loss: 0.2850\n",
            "Epoch 7/10\n",
            "\u001b[1m14526/14526\u001b[0m \u001b[32m━━━━━━━━━━━━━━━━━━━━\u001b[0m\u001b[37m\u001b[0m \u001b[1m47s\u001b[0m 3ms/step - accuracy: 0.8906 - loss: 0.2700 - val_accuracy: 0.8898 - val_loss: 0.2682\n",
            "Epoch 8/10\n",
            "\u001b[1m14526/14526\u001b[0m \u001b[32m━━━━━━━━━━━━━━━━━━━━\u001b[0m\u001b[37m\u001b[0m \u001b[1m47s\u001b[0m 3ms/step - accuracy: 0.8948 - loss: 0.2591 - val_accuracy: 0.8927 - val_loss: 0.2661\n",
            "Epoch 9/10\n",
            "\u001b[1m14526/14526\u001b[0m \u001b[32m━━━━━━━━━━━━━━━━━━━━\u001b[0m\u001b[37m\u001b[0m \u001b[1m46s\u001b[0m 3ms/step - accuracy: 0.8978 - loss: 0.2523 - val_accuracy: 0.8968 - val_loss: 0.2591\n",
            "Epoch 10/10\n",
            "\u001b[1m14526/14526\u001b[0m \u001b[32m━━━━━━━━━━━━━━━━━━━━\u001b[0m\u001b[37m\u001b[0m \u001b[1m46s\u001b[0m 3ms/step - accuracy: 0.8998 - loss: 0.2472 - val_accuracy: 0.8959 - val_loss: 0.2582\n"
          ]
        }
      ],
      "source": [
        "# Callbacks untuk training\n",
        "# Menghentikan pelatihan lebih awal jika tidak ada peningkatan dalam 15 epoch\n",
        "callbacks = [\n",
        "    EarlyStopping(monitor='val_loss', patience=15, restore_best_weights=True),\n",
        "    ReduceLROnPlateau(monitor='val_loss', factor=0.2, patience=5, min_lr=1e-6)\n",
        "]\n",
        "\n",
        "# Melatih model\n",
        "history = mlp_model.fit(\n",
        "    ds_train,\n",
        "    epochs=150,\n",
        "    validation_data=ds_test,\n",
        "    callbacks=callbacks\n",
        ")"
      ]
    },
    {
      "cell_type": "markdown",
      "metadata": {
        "id": "ClYEiHUicuDg"
      },
      "source": [
        "### 4. Mengevaluasi Model dengan Menghitung Akurasi, Presisi, Recall, F1Squared, ROC, dan AUC-ROC"
      ]
    },
    {
      "cell_type": "code",
      "execution_count": null,
      "metadata": {
        "id": "eM1uptDbcuDg"
      },
      "outputs": [],
      "source": [
        "# Evaluasi model\n",
        "test_loss, test_accuracy = mlp_model.evaluate(ds_test)\n",
        "print(f\"Test accuracy: {test_accuracy:.4f}\")\n",
        "\n",
        "# Konversi dataset untuk evaluasi metrik lengkap\n",
        "y_true = []\n",
        "y_pred = []\n",
        "y_pred_proba = []\n",
        "\n",
        "for images, labels in ds_test:\n",
        "    predictions = mlp_model.predict(images)\n",
        "    y_pred_proba.extend(predictions)\n",
        "    y_pred.extend(np.argmax(predictions, axis=1))\n",
        "    y_true.extend(labels.numpy())\n",
        "\n",
        "y_true = np.array(y_true)\n",
        "y_pred = np.array(y_pred)\n",
        "y_pred_proba = np.array(y_pred_proba)\n",
        "\n",
        "# Menghitung metrik evaluasi\n",
        "precision, recall, f1, roc_auc = evaluate_metrics(y_true, y_pred, y_pred_proba)\n",
        "\n",
        "# Output metrik evaluasi\n",
        "print(\"\\nMetrik Evaluasi MLP Model dengan TensorFlow:\")\n",
        "print(f\"Accuracy: {test_accuracy:.4f}\")\n",
        "print(f\"Precision: {precision:.4f}\")\n",
        "print(f\"Recall: {recall:.4f}\")\n",
        "print(f\"F1 Score: {f1:.4f}\")\n",
        "print(f\"ROC AUC: {roc_auc:.4f}\")\n"
      ]
    },
    {
      "cell_type": "markdown",
      "metadata": {
        "id": "QX7NvMLAcuDg"
      },
      "source": [
        "### 5. Memvisualisasikan Prediksi dari model yang telah dilatih"
      ]
    },
    {
      "cell_type": "code",
      "execution_count": null,
      "metadata": {
        "id": "NJ7NmzRLcuDg",
        "outputId": "dcb55fbf-142b-4194-87d9-e38df71a8c7d"
      },
      "outputs": [
        {
          "data": {
            "image/png": "[encoded data removed]",
            "text/plain": [
              "<Figure size 480x480 with 2 Axes>"
            ]
          },
          "metadata": {},
          "output_type": "display_data"
        },
        {
          "data": {
            "image/png": "[encoded data removed]",
            "text/plain": [
              "<Figure size 640x480 with 1 Axes>"
            ]
          },
          "metadata": {},
          "output_type": "display_data"
        }
      ],
      "source": [
        "# Plot training history\n",
        "visualize_results(history)\n",
        "\n",
        "# Plot ROC curve (one vs rest untuk multi-kelas)\n",
        "visualize_roc_curve(y_true, y_pred_proba)\n",
        "\n",
        "# Plot confusion matrix\n",
        "visualize_confusion_matrix(y_true, y_pred)"
      ]
    },
    {
      "cell_type": "markdown",
      "metadata": {
        "id": "PGTEaf1UcuDg"
      },
      "source": [
        "### 6. Menyimpan Model"
      ]
    },
    {
      "cell_type": "code",
      "execution_count": null,
      "metadata": {
        "id": "eVlinwUocuDg"
      },
      "outputs": [],
      "source": [
        "# Menyimpan model\n",
        "mlp_model.save('model_tensorflow_cifar-10_mlp.keras')\n",
        "print(\"Model disimpan sebagai 'model_tensorflow_cifar-10_mlp.keras'\")"
      ]
    },
    {
      "cell_type": "markdown",
      "metadata": {
        "id": "Mynut5b5cuDg"
      },
      "source": [
        "## B. CNN CIFAR-10 Dengan Tensorflow"
      ]
    },
    {
      "cell_type": "markdown",
      "metadata": {
        "id": "PxEdQuqzcuDg"
      },
      "source": [
        "### 1. Penyusunan Model Neural Network\n"
      ]
    },
    {
      "cell_type": "code",
      "execution_count": null,
      "metadata": {
        "id": "Z7rI25KocuDg"
      },
      "outputs": [],
      "source": [
        "# Membuat model CNN\n",
        "def create_cnn_model():\n",
        "    model = Sequential([\n",
        "        # Blok Konvolusional 1\n",
        "        Conv2D(32, (3, 3), padding='same', activation='relu', input_shape=(32, 32, 3)),\n",
        "        BatchNormalization(),\n",
        "        Conv2D(32, (3, 3), padding='same', activation='relu'),\n",
        "        BatchNormalization(),\n",
        "        MaxPooling2D(pool_size=(2, 2)),\n",
        "        Dropout(0.25),\n",
        "\n",
        "        # Blok Konvolusional 2\n",
        "        Conv2D(64, (3, 3), padding='same', activation='relu'),\n",
        "        BatchNormalization(),\n",
        "        Conv2D(64, (3, 3), padding='same', activation='relu'),\n",
        "        BatchNormalization(),\n",
        "        MaxPooling2D(pool_size=(2, 2)),\n",
        "        Dropout(0.25),\n",
        "\n",
        "        # Blok Konvolusional 3\n",
        "        Conv2D(128, (3, 3), padding='same', activation='relu'),\n",
        "        BatchNormalization(),\n",
        "        Conv2D(128, (3, 3), padding='same', activation='relu'),\n",
        "        BatchNormalization(),\n",
        "        MaxPooling2D(pool_size=(2, 2)),\n",
        "        Dropout(0.25),\n",
        "\n",
        "        # Fully connected layers\n",
        "        Flatten(),\n",
        "        Dense(512, activation='relu'),\n",
        "        BatchNormalization(),\n",
        "        Dropout(0.5),\n",
        "        Dense(10, activation='softmax')  # 10 kelas untuk CIFAR-10\n",
        "    ])\n",
        "\n",
        "    return model\n",
        "\n",
        "# Inisialisasi model\n",
        "cnn_model = create_cnn_model()"
      ]
    },
    {
      "cell_type": "markdown",
      "metadata": {
        "id": "hgJUEq9acuDg"
      },
      "source": [
        "### 2. Kompilasi Model"
      ]
    },
    {
      "cell_type": "code",
      "execution_count": null,
      "metadata": {
        "id": "VDVc9qI6cuDg"
      },
      "outputs": [],
      "source": [
        "# Kompilasi model\n",
        "cnn_model.compile(\n",
        "    optimizer=Adam(learning_rate=0.001),\n",
        "    loss='sparse_categorical_crossentropy',\n",
        "    metrics=['accuracy']\n",
        ")"
      ]
    },
    {
      "cell_type": "markdown",
      "metadata": {
        "id": "5Wy5h_4GcuDg"
      },
      "source": [
        "### 3. Pelatihan Model"
      ]
    },
    {
      "cell_type": "code",
      "execution_count": null,
      "metadata": {
        "id": "tnf1kJXicuDh"
      },
      "outputs": [],
      "source": [
        "# Callbacks untuk training\n",
        "callbacks = [\n",
        "    EarlyStopping(monitor='val_loss', patience=10, restore_best_weights=True),\n",
        "    ReduceLROnPlateau(monitor='val_loss', factor=0.2, patience=5, min_lr=1e-6)\n",
        "]\n",
        "\n",
        "# Melatih model\n",
        "history = cnn_model.fit(\n",
        "    ds_train,\n",
        "    epochs=100,\n",
        "    validation_data=ds_test,\n",
        "    callbacks=callbacks\n",
        ")"
      ]
    },
    {
      "cell_type": "markdown",
      "metadata": {
        "id": "rSRTZoy4cuDh"
      },
      "source": [
        "### 4. Mengevaluasi Model dengan Menghitung Akurasi, Presisi, Recall, F1Squared, ROC, dan AUC-ROC"
      ]
    },
    {
      "cell_type": "code",
      "execution_count": null,
      "metadata": {
        "id": "3qqUgfWMcuDh"
      },
      "outputs": [],
      "source": [
        "# Evaluasi model\n",
        "test_loss, test_accuracy = cnn_model.evaluate(ds_test)\n",
        "print(f\"Test accuracy: {test_accuracy:.4f}\")\n",
        "\n",
        "# Konversi dataset untuk evaluasi metrik lengkap\n",
        "y_true = []\n",
        "y_pred = []\n",
        "y_pred_proba = []\n",
        "\n",
        "# Menghitung prediksi untuk semua data uji\n",
        "for images, labels in ds_test:\n",
        "    predictions = cnn_model.predict(images)\n",
        "    y_pred_proba.extend(predictions)\n",
        "    y_pred.extend(np.argmax(predictions, axis=1))\n",
        "    y_true.extend(labels.numpy())\n",
        "\n",
        "# Mengonversi ke numpy array\n",
        "y_true = np.array(y_true)\n",
        "y_pred = np.array(y_pred)\n",
        "y_pred_proba = np.array(y_pred_proba)\n",
        "\n",
        "# Menghitung metrik evaluasi\n",
        "precision, recall, f1, roc_auc = evaluate_metrics(y_true, y_pred, y_pred_proba)\n",
        "\n",
        "# Output metrik evaluasi\n",
        "print(\"\\nMetrik Evaluasi CNN Model dengan TensorFlow:\")\n",
        "print(f\"Accuracy: {test_accuracy:.4f}\")\n",
        "print(f\"Precision: {precision:.4f}\")\n",
        "print(f\"Recall: {recall:.4f}\")\n",
        "print(f\"F1 Score: {f1:.4f}\")\n",
        "print(f\"ROC AUC: {roc_auc:.4f}\")\n"
      ]
    },
    {
      "cell_type": "markdown",
      "metadata": {
        "id": "nFr8tuYIcuDh"
      },
      "source": [
        "### 5. Memvisualisasikan Prediksi dari model yang telah dilatih"
      ]
    },
    {
      "cell_type": "code",
      "execution_count": null,
      "metadata": {
        "id": "7Aqf1t12cuDh",
        "outputId": "4523adbe-40c4-4b03-ee6c-27cee900a382"
      },
      "outputs": [
        {
          "data": {
            "image/png": "[encoded data removed]",
            "text/plain": [
              "<Figure size 480x480 with 2 Axes>"
            ]
          },
          "metadata": {},
          "output_type": "display_data"
        },
        {
          "data": {
            "image/png": "[encoded data removed]",
            "text/plain": [
              "<Figure size 640x480 with 1 Axes>"
            ]
          },
          "metadata": {},
          "output_type": "display_data"
        }
      ],
      "source": [
        "# Plot training history\n",
        "visualize_results(history)\n",
        "\n",
        "# Plot ROC curve (one vs rest untuk multi-kelas)\n",
        "visualize_roc_curve(y_true, y_pred_proba)\n",
        "\n",
        "# Plot confusion matrix\n",
        "visualize_confusion_matrix(y_true, y_pred)"
      ]
    },
    {
      "cell_type": "markdown",
      "metadata": {
        "id": "Z0LRAZbYcuDh"
      },
      "source": [
        "### 6. Menyimpan Model"
      ]
    },
    {
      "cell_type": "code",
      "execution_count": null,
      "metadata": {
        "id": "amylyGF_cuDh"
      },
      "outputs": [],
      "source": [
        "# Menyimpan model\n",
        "cnn_model.save('model_tensorflow_cifar-10_cnn.keras')\n",
        "print(\"Model disimpan sebagai 'model_tensorflow_cifar-10_cnn.keras'\")"
      ]
    },
    {
      "cell_type": "markdown",
      "metadata": {
        "id": "RBHa4-QbcuDh"
      },
      "source": [
        "penjelasan lebih rinci tentang persamaan matematika dalam model MLP (Multi-Layer Perceptron) dan CNN (Convolutional Neural Network) sebutkan:\n",
        "\n",
        "## 1. Konvolusi (Convolution)\n",
        "Operasi konvolusi dalam CNN bekerja dengan menggeser kernel/filter pada citra input dan melakukan operasi dot product antara kernel dan bagian citra yang tumpang tindih.\n",
        "\n",
        "\n",
        "$$(I * K)(i, j) = \\sum_{m} \\sum_{n} I(i-m, j-n) \\cdot K(m, n)$$\n",
        "\n",
        "dimana:\n",
        "- $I$ adalah citra input\n",
        "- $K$ adalah kernel atau filter\n",
        "- $*$ adalah operator konvolusi\n",
        "- $i, j$ adalah indeks piksel output\n",
        "- $m, n$ adalah indeks kernel\n",
        "\n",
        "Contoh:\n",
        "\n",
        "Jika kernel berukuran 3×3, maka operasi konvolusi menghitung jumlah perkalian elemen kernel dengan bagian citra yang sesuai.\n",
        "\n",
        "## 2. Aktivasi ReLU (Rectified Linear Unit)\n",
        "\n",
        "Fungsi aktivasi ReLU yang digunakan dalam model kita didefinisikan sebagai:\n",
        "\n",
        "$$f(x) = \\max(0, x)$$\n",
        "\n",
        "ReLU akan mengubah semua nilai negatif menjadi 0, sementara nilai positif tetap tidak berubah. Ini membantu model untuk belajar fungsi non-linear dan mengatasi masalah vanishing gradient.\n",
        "\n",
        "## 3. Batch Normalization\n",
        "\n",
        "Batch Normalization digunakan untuk menstabilkan dan mempercepat proses pembelajaran dengan menormalkan aktivasi di setiap lapisan. Rumus matematisnya adalah:\n",
        "\n",
        "$$\\hat{x}_i = \\frac{x_i - \\mu_B}{\\sqrt{\\sigma_B^2 + \\epsilon}}​$$\n",
        "\n",
        "$$y_i = \\gamma \\cdot \\hat{x}_i + \\beta$$\n",
        "\n",
        "dimana:\n",
        "- $x_i$ adalah input ke batch normalization\n",
        "- $\\mu_B$ adalah rata-rata mini-batch\n",
        "- $\\sigma_B^2$ adalah varians mini-batch\n",
        "- $\\epsilon$ adalah konstanta kecil untuk stabilitas numerik\n",
        "- $\\gamma$ dan $\\beta$ adalah parameter yang dipelajari\n",
        "- $y_i$ adalah output batch normalization\n",
        "\n",
        "## 4. Max Pooling\n",
        "\n",
        "Max Pooling digunakan untuk mengurangi dimensi spasial dengan memilih nilai maksimum dari setiap region. Secara matematis:\n",
        "\n",
        "$$\\text{MaxPool}(X)_{i,j} = \\max_{m,n \\in R_{i,j}} X_{m,n}​$$\n",
        "\n",
        "dimana $R_{i,j}$ adalah region lokal yang berpusat di lokasi $(i,j)$.\n",
        "\n",
        "## 5. Dropout\n",
        "\n",
        "Dropout adalah teknik regularisasi yang mencegah overfitting dengan secara acak mematikan neuron selama training. Secara matematis, untuk setiap neuron:\n",
        "\n",
        "$$\\begin{cases}\n",
        "x/p & \\text{dengan probabilitas } p \\\\\n",
        "0 & \\text{dengan probabilitas } 1-p\n",
        "\\end{cases}$$\n",
        "\n",
        "dimana $p$ adalah probabilitas mempertahankan (keep probability) dan $1-p$ adalah dropout rate.\n",
        "\n",
        "## 6. Forward Pass dalam MLP\n",
        "Dalam MLP, forward pass untuk lapisan fully-connected didefinisikan sebagai:\n",
        "\n",
        "$$z^{[l]} = W^{[l]} \\cdot a^{[l-1]} + b^{[l]}$$\n",
        "$$a^{[l]} = g(z^{[l]})$$\n",
        "\n",
        "dimana:\n",
        "- $W^{[l]}$ adalah matriks bobot untuk lapisan ke-l\n",
        "- $a^{[l-1]}$ adalah aktivasi dari lapisan sebelumnya\n",
        "- $b^{[l]}$ adalah vektor bias\n",
        "- $g$ adalah fungsi aktivasi (seperti ReLU)\n",
        "- $z^{[l]}$ adalah input terbobot\n",
        "- $a^{[l]}$ adalah output lapisan\n",
        "\n",
        "## 7. Fungsi Loss Cross-Entropy\n",
        "Cross-entropy loss yang digunakan untuk klasifikasi multi-kelas didefinisikan sebagai:\n",
        "\n",
        "$$L = -\\frac{1}{N} \\sum_{i=1}^{N} \\sum_{c=1}^{C} y_{i,c} \\log(p_{i,c})$$\n",
        "\n",
        "dimana:\n",
        "- $N$ adalah jumlah sampel\n",
        "- $C$ adalah jumlah kelas\n",
        "- $y_{i,c}$ adalah indikator (0 atau 1) apakah kelas c adalah label yang benar untuk sampel i\n",
        "- $p_{i,c}$ adalah probabilitas yang diprediksi bahwa sampel i adalah kelas c\n",
        "\n",
        "## 8. Optimizer Adam\n",
        "Adam (Adaptive Moment Estimation) adalah algoritma optimasi yang menggabungkan RMSprop dan momentum. Adam memperbarui bobot menggunakan rumus:\n",
        "\n",
        "$$m_t = \\beta_1 \\cdot m_{t-1} + (1 - \\beta_1) \\cdot g_t$$\n",
        "$$v_t = \\beta_2 \\cdot v_{t-1} + (1 - \\beta_2) \\cdot g_t^2$$\n",
        "$$\\hat{m}_t = \\frac{m_t}{1 - \\beta_1^t}$$\n",
        "$$\\hat{v}_t = \\frac{v_t}{1 - \\beta_2^t}$$\n",
        "$$\\theta_t = \\theta_{t-1} - \\alpha \\cdot \\frac{\\hat{m}_t}{\\sqrt{\\hat{v}_t} + \\epsilon}$$\n",
        "\n",
        "dimana:\n",
        "- $g_t$ adalah gradien pada waktu t\n",
        "- $m_t$ dan $v_t$ adalah estimasi momen pertama dan kedua\n",
        "- $\\hat{m}_t$ dan $\\hat{v}_t$ adalah estimasi momen yang dikoreksi\n",
        "- $\\alpha$ adalah learning rate\n",
        "- $\\beta_1$ dan $\\beta_2$ adalah exponential decay rates\n",
        "- $\\epsilon$ adalah konstanta kecil untuk stabilitas numerik\n",
        "- $\\theta_t$ adalah parameter yang diperbarui\n",
        "\n",
        "## 9. Softmax\n",
        "Fungsi softmax digunakan pada output layer untuk mengubah logits menjadi probabilitas yang berjumlah 1:\n",
        "\n",
        "$$\\text{softmax}(x)_i = \\frac{e^{x_i}}{\\sum_{j=1}^{k} e^{x_j}}$$\n",
        "\n",
        "dimana $x_i$ adalah nilai logit untuk kelas i dan k adalah jumlah kelas.\n",
        "\n",
        "Kesimpulan :\n",
        "\n",
        "Persamaan-persamaan ini adalah fondasi matematis dari operasi dalam MLP dan CNN. Pemahaman mendalam tentangnya membantu dalam mengembangkan arsitektur yang lebih efisien dan melakukan debugging model."
      ]
    },
    {
      "cell_type": "markdown",
      "metadata": {
        "id": "DsjVcDTgcuDh"
      },
      "source": [
        "# Penjelasan Metrik Evaluasi:\n",
        "## Akurasi\n",
        "\n",
        "$$ \\text{Accuracy} = \\frac{\\text{True Positives} + \\text{True Negatives}}{\\text{Total Samples}} $$\n",
        "\n",
        "Menunjukkan seberapa sering model memprediksi dengan benar.\n",
        "\n",
        "\n",
        "## Presisi\n",
        "\n",
        "$$ \\text{Precision} = \\frac{\\text{True Positives}}{\\text{True Negatives} + \\text{False Positives}} $$\n",
        "\n",
        "Seberapa andal prediksi positif model.\n",
        "\n",
        "\n",
        "## Recall (Sensitivity)\n",
        "\n",
        "$$ \\text{Recall} = \\frac{\\text{True Positives}}{\\text{True Positives} + \\text{False Negatives}} $$\n",
        "\n",
        "Seberapa baik model menangkap kelas positif.\n",
        "\n",
        "\n",
        "## F1-Score\n",
        "\n",
        "$$ \\text{F1-Score} = 2 \\times \\frac{\\text{Precision} \\times \\text{Recall}}{\\text{Precision} + \\text{Recall}} $$\n",
        "\n",
        "Rata-rata harmonik antara presisi dan recall.\n",
        "\n",
        "\n",
        "## ROC (Receiver Operating Characteristic) Curve\n",
        "\n",
        "ROC Curve memplot hubungan antara True Positive Rate (TPR) dan False Positive Rate (FPR):\n",
        "\n",
        "$$ \\text{True Positive Rate (TPR)} = \\text{Recall} $$\n",
        "\n",
        "$$ \\text{False Positive Rate (FPR)} = \\frac{\\text{False Positives}}{ \\text{False Positives} + \\text{True Negatives}} $$\n",
        "\n",
        "\n",
        "## AUC-ROC\n",
        "\n",
        "$$ AUC = \\int_{0}^{1} TPR(x) \\, dx $$\n",
        "\n",
        "AUC (Area Under Curve) adalah area di bawah kurva ROC (Receiver Operating Characteristic)"
      ]
    }
  ],
  "metadata": {
    "colab": {
      "collapsed_sections": [
        "sEcuhK7kxBfZ"
      ],
      "provenance": [],
      "include_colab_link": true
    },
    "kernelspec": {
      "display_name": "Python 3",
      "name": "python3"
    },
    "language_info": {
      "codemirror_mode": {
        "name": "ipython",
        "version": 3
      },
      "file_extension": ".py",
      "mimetype": "text/x-python",
      "name": "python",
      "nbconvert_exporter": "python",
      "pygments_lexer": "ipython3",
      "version": "3.11.4"
    }
  },
  "nbformat": 4,
  "nbformat_minor": 0
}